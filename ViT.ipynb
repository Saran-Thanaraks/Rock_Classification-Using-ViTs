{
 "cells": [
  {
   "cell_type": "markdown",
   "metadata": {},
   "source": [
    "Import\n",
    "************"
   ]
  },
  {
   "cell_type": "code",
   "execution_count": 3,
   "metadata": {},
   "outputs": [],
   "source": [
    "from datasets import load_dataset, load_from_disk, Dataset, Features, Array3D\n",
    "from transformers import AutoProcessor, ViTFeatureExtractor, ViTForImageClassification, Trainer, TrainingArguments, default_data_collator\n",
    "import pyarrow as pa\n",
    "import evaluate\n",
    "import numpy as np\n",
    "from typing import Tuple\n",
    "import torch\n",
    "import pandas as pd\n",
    "from matplotlib import pyplot as plt\n",
    "import seaborn as sns \n",
    "from sklearn.metrics import confusion_matrix \n",
    "from sklearn.metrics import classification_report"
   ]
  },
  {
   "cell_type": "markdown",
   "metadata": {},
   "source": [
    "Define Path\n",
    "************"
   ]
  },
  {
   "cell_type": "code",
   "execution_count": 4,
   "metadata": {},
   "outputs": [],
   "source": [
    "# The directory where our images are saved in folders by category\n",
    "images_dir = \"Rocks\"\n",
    "\n",
    "# The output directory of the processed datasets\n",
    "train_save_path = \"./processed-datasets/NotAugmented/train\"\n",
    "val_save_path = \"./processed-datasets/NotAugmented/val\"\n",
    "test_save_path = \"./processed-datasets/NotAugmented/test\"\n",
    "\n",
    "\n",
    "# Name of model as named in the HuggingFace Hub\n",
    "model_name = \"google/vit-base-patch16-224-in21k\"\n"
   ]
  },
  {
   "cell_type": "markdown",
   "metadata": {},
   "source": [
    "Load Dataset & Convert to RGB\n",
    "************"
   ]
  },
  {
   "cell_type": "code",
   "execution_count": 5,
   "metadata": {},
   "outputs": [
    {
     "name": "stderr",
     "output_type": "stream",
     "text": [
      "Resolving data files: 100%|██████████| 2032/2032 [00:00<00:00, 16894.68it/s]\n"
     ]
    }
   ],
   "source": [
    "dataset = load_dataset(\"imagefolder\", data_dir=images_dir, split='train')\n",
    "\n",
    "condition = lambda data: data['image'].mode == 'RGB'\n",
    "dataset = dataset.filter(condition)"
   ]
  },
  {
   "cell_type": "markdown",
   "metadata": {},
   "source": [
    "Split Dataset to (Test/Train/Validate)\n",
    "************"
   ]
  },
  {
   "cell_type": "code",
   "execution_count": 6,
   "metadata": {},
   "outputs": [
    {
     "name": "stdout",
     "output_type": "stream",
     "text": [
      "Splitting dataset into train, validation and test sets...\n"
     ]
    }
   ],
   "source": [
    "def split_dataset(\n",
    "    dataset: Dataset,\n",
    "    val_size: float=0.2,\n",
    "    test_size: float=0.1\n",
    ") -> Tuple[Dataset, Dataset, Dataset]:\n",
    "    \"\"\"\n",
    "    Returns a tuple with three random train, validation and test subsets by splitting the passed dataset.\n",
    "    Size of the validation and test sets defined as a fraction of 1 with the `val_size` and `test_size` arguments.\n",
    "    \"\"\"\n",
    "\n",
    "    print(\"Splitting dataset into train, validation and test sets...\")\n",
    "\n",
    "    # Split dataset into train and (val + test) sets\n",
    "    split_size = round(val_size + test_size, 3)\n",
    "    dataset = dataset.train_test_split(shuffle=True, test_size=split_size)\n",
    "\n",
    "    # Split (val + test) into val and test sets\n",
    "    split_ratio = round(test_size / (test_size + val_size), 3)\n",
    "    val_test_sets = dataset['test'].train_test_split(shuffle=True, test_size=split_ratio)\n",
    "\n",
    "    train_dataset = dataset[\"train\"]\n",
    "    val_dataset = val_test_sets[\"train\"]\n",
    "    test_dataset = val_test_sets[\"test\"]\n",
    "    return train_dataset, val_dataset, test_dataset\n",
    "\n",
    "# Sizes of dataset splits\n",
    "val_size = 0.2\n",
    "test_size = 0.1\n",
    "\n",
    "# Split dataset into train and test sets\n",
    "train_dataset, val_dataset, test_dataset = split_dataset(dataset, val_size, test_size)"
   ]
  },
  {
   "cell_type": "markdown",
   "metadata": {},
   "source": [
    "Transform Image\n",
    "************"
   ]
  },
  {
   "cell_type": "code",
   "execution_count": 7,
   "metadata": {},
   "outputs": [
    {
     "name": "stderr",
     "output_type": "stream",
     "text": [
      "Map:   0%|          | 0/1404 [00:00<?, ? examples/s]c:\\Users\\Acer\\AppData\\Local\\Programs\\Python\\Python39\\lib\\site-packages\\datasets\\features\\features.py:648: FutureWarning: pyarrow.PyExtensionType is deprecated and will refuse deserialization by default. Instead, please derive from pyarrow.ExtensionType and implement your own serialization mechanism.\n",
      "  pa.PyExtensionType.__init__(self, self.storage_dtype)\n",
      "Map: 100%|██████████| 1404/1404 [01:08<00:00, 20.48 examples/s]\n",
      "Map: 100%|██████████| 402/402 [00:17<00:00, 23.28 examples/s]\n",
      "Map: 100%|██████████| 201/201 [00:03<00:00, 53.47 examples/s]\n"
     ]
    }
   ],
   "source": [
    "pa.PyExtensionType.set_auto_load(True)\n",
    "\n",
    "def process_examples(examples, image_processor):\n",
    "    \n",
    "    # Get batch of images\n",
    "    images = examples['image']\n",
    "\n",
    "    # Preprocess\n",
    "    inputs = image_processor(images=images)\n",
    "    # Add pixel_values\n",
    "    examples['pixel_values'] = inputs['pixel_values']\n",
    "\n",
    "    return examples\n",
    "\n",
    "\n",
    "def apply_processing(\n",
    "    model_name: str,\n",
    "    train_dataset: Dataset,\n",
    "    val_dataset: Dataset,\n",
    "    test_dataset: Dataset\n",
    ") -> Tuple[Dataset, Dataset, Dataset]:\n",
    "    \"\"\"\n",
    "    Apply model's image AutoProcessor to transform train, validation and test subsets.\n",
    "    Returns train, validation and test datasets with `pixel_values` in torch tensor type.\n",
    "    \"\"\"\n",
    "\n",
    "    # Extend the features \n",
    "    features = Features({\n",
    "        **train_dataset.features,\n",
    "        'pixel_values': Array3D(dtype=\"float32\", shape=(3, 224, 224)),\n",
    "    })\n",
    "\n",
    "    # Instantiate image_processor\n",
    "    image_processor = AutoProcessor.from_pretrained(model_name)\n",
    "    \n",
    "    # Preprocess images\n",
    "    train_dataset = train_dataset.map(process_examples, batched=True, features=features, fn_kwargs={\"image_processor\": image_processor})\n",
    "    val_dataset = val_dataset.map(process_examples, batched=True, features=features, fn_kwargs={\"image_processor\": image_processor})\n",
    "    test_dataset = test_dataset.map(process_examples, batched=True, features=features, fn_kwargs={\"image_processor\": image_processor})\n",
    "\n",
    "    # Set to torch format for training\n",
    "    train_dataset.set_format('torch', columns=['pixel_values', 'label'])\n",
    "    val_dataset.set_format('torch', columns=['pixel_values', 'label'])\n",
    "    test_dataset.set_format('torch', columns=['pixel_values', 'label'])\n",
    "    \n",
    "    # Remove unused column\n",
    "    train_dataset = train_dataset.remove_columns(\"image\")\n",
    "    val_dataset = val_dataset.remove_columns(\"image\")\n",
    "    test_dataset = test_dataset.remove_columns(\"image\")\n",
    "    \n",
    "    return train_dataset, val_dataset, test_dataset\n",
    "\n",
    "\n",
    "# Apply AutoProcessor\n",
    "train_dataset, val_dataset, test_dataset = apply_processing(model_name, train_dataset, val_dataset, test_dataset)"
   ]
  },
  {
   "cell_type": "markdown",
   "metadata": {},
   "source": [
    "Save Transformed Dataset\n",
    "************"
   ]
  },
  {
   "cell_type": "code",
   "execution_count": 8,
   "metadata": {},
   "outputs": [
    {
     "name": "stderr",
     "output_type": "stream",
     "text": [
      "Saving the dataset (1/1 shards): 100%|██████████| 1404/1404 [00:01<00:00, 784.16 examples/s]\n",
      "Saving the dataset (1/1 shards): 100%|██████████| 402/402 [00:00<00:00, 709.20 examples/s]\n",
      "Saving the dataset (1/1 shards): 100%|██████████| 201/201 [00:03<00:00, 57.19 examples/s]\n"
     ]
    }
   ],
   "source": [
    "# Save train, validation and test preprocessed datasets\n",
    "train_dataset.save_to_disk(train_save_path, num_shards=1)\n",
    "\n",
    "val_dataset.save_to_disk(val_save_path, num_shards=1)\n",
    "\n",
    "test_dataset.save_to_disk(test_save_path, num_shards=1)"
   ]
  },
  {
   "cell_type": "markdown",
   "metadata": {},
   "source": [
    "Load Transformed Dataset\n",
    "************"
   ]
  },
  {
   "cell_type": "code",
   "execution_count": 9,
   "metadata": {},
   "outputs": [],
   "source": [
    "train_dataset = load_from_disk(train_save_path)\n",
    "\n",
    "val_dataset = load_from_disk(val_save_path)"
   ]
  },
  {
   "cell_type": "markdown",
   "metadata": {},
   "source": [
    "Define Model & Feature Extraction\n",
    "************"
   ]
  },
  {
   "cell_type": "code",
   "execution_count": 10,
   "metadata": {},
   "outputs": [
    {
     "name": "stderr",
     "output_type": "stream",
     "text": [
      "Some weights of the model checkpoint at google/vit-base-patch16-224-in21k were not used when initializing ViTForImageClassification: ['pooler.dense.weight', 'pooler.dense.bias']\n",
      "- This IS expected if you are initializing ViTForImageClassification from the checkpoint of a model trained on another task or with another architecture (e.g. initializing a BertForSequenceClassification model from a BertForPreTraining model).\n",
      "- This IS NOT expected if you are initializing ViTForImageClassification from the checkpoint of a model that you expect to be exactly identical (initializing a BertForSequenceClassification model from a BertForSequenceClassification model).\n",
      "Some weights of ViTForImageClassification were not initialized from the model checkpoint at google/vit-base-patch16-224-in21k and are newly initialized: ['classifier.bias', 'classifier.weight']\n",
      "You should probably TRAIN this model on a down-stream task to be able to use it for predictions and inference.\n",
      "c:\\Users\\Acer\\AppData\\Local\\Programs\\Python\\Python39\\lib\\site-packages\\transformers\\models\\vit\\feature_extraction_vit.py:28: FutureWarning: The class ViTFeatureExtractor is deprecated and will be removed in version 5 of Transformers. Please use ViTImageProcessor instead.\n",
      "  warnings.warn(\n"
     ]
    }
   ],
   "source": [
    "model = ViTForImageClassification.from_pretrained(model_name, num_labels=7)\n",
    "\n",
    "# Download feature extractor from hub\n",
    "feature_extractor = ViTFeatureExtractor.from_pretrained(model_name)"
   ]
  },
  {
   "cell_type": "markdown",
   "metadata": {},
   "source": [
    "Create Evaluation Metric\n",
    "************"
   ]
  },
  {
   "cell_type": "code",
   "execution_count": 11,
   "metadata": {},
   "outputs": [
    {
     "name": "stderr",
     "output_type": "stream",
     "text": [
      "Using the latest cached version of the module from C:\\Users\\Acer\\.cache\\huggingface\\modules\\evaluate_modules\\metrics\\evaluate-metric--accuracy\\f887c0aab52c2d38e1f8a215681126379eca617f96c447638f751434e8e65b14 (last modified on Fri Feb  9 09:06:43 2024) since it couldn't be found locally at evaluate-metric--accuracy, or remotely on the Hugging Face Hub.\n"
     ]
    }
   ],
   "source": [
    "# Compute metrics function for binary classification\n",
    "acc_metric = evaluate.load(\"accuracy\", module_type=\"metric\")\n",
    "\n",
    "def compute_metrics(eval_pred):\n",
    "    predicted_probs, labels = eval_pred\n",
    "    # Accuracy\n",
    "    predicted_labels = np.argmax(predicted_probs, axis=1)\n",
    "    acc = acc_metric.compute(predictions=predicted_labels, references=labels)\n",
    "    return acc"
   ]
  },
  {
   "cell_type": "markdown",
   "metadata": {},
   "source": [
    "Target Class Encode-Decode\n",
    "************"
   ]
  },
  {
   "cell_type": "code",
   "execution_count": 12,
   "metadata": {},
   "outputs": [],
   "source": [
    "id2label = {key:train_dataset.features[\"label\"].names[index] for index,key in enumerate(model.config.id2label.keys())}\n",
    "label2id = {train_dataset.features[\"label\"].names[index]:value for index,value in enumerate(model.config.label2id.values())}\n",
    "model.config.id2label = id2label\n",
    "model.config.label2id = label2id"
   ]
  },
  {
   "cell_type": "markdown",
   "metadata": {},
   "source": [
    "Define Training Hyperparameter & Argument\n",
    "************"
   ]
  },
  {
   "cell_type": "code",
   "execution_count": 13,
   "metadata": {},
   "outputs": [],
   "source": [
    "model_dir = \"./model\"\n",
    "output_data_dir = \"./outputs\"\n",
    "\n",
    "# Total number of training epochs to perform\n",
    "num_train_epochs = 15\n",
    "# The batch size per GPU/TPU core/CPU for training\n",
    "per_device_train_batch_size = 16\n",
    "# The batch size per GPU/TPU core/CPU for evaluation\n",
    "per_device_eval_batch_size = 16\n",
    "# The initial learning rate for AdamW optimizer\n",
    "learning_rate = 2e-5\n",
    "# Number of steps used for a linear warmup from 0 to learning_rate\n",
    "warmup_steps = 500\n",
    "# The weight decay to apply to all layers except all bias and LayerNorm weights in AdamW optimizer\n",
    "weight_decay = 0.01\n",
    "\n",
    "main_metric_for_evaluation = \"accuracy\""
   ]
  },
  {
   "cell_type": "markdown",
   "metadata": {},
   "source": [
    "Apply Training Arguments\n",
    "************"
   ]
  },
  {
   "cell_type": "code",
   "execution_count": 14,
   "metadata": {},
   "outputs": [],
   "source": [
    "training_args = TrainingArguments(\n",
    "    output_dir = model_dir,\n",
    "    num_train_epochs = num_train_epochs,\n",
    "    per_device_train_batch_size = per_device_train_batch_size,\n",
    "    per_device_eval_batch_size = per_device_eval_batch_size,\n",
    "    warmup_steps = warmup_steps,\n",
    "    weight_decay = weight_decay,\n",
    "    evaluation_strategy = \"epoch\",\n",
    "    save_strategy = \"epoch\",\n",
    "    logging_strategy = \"epoch\",\n",
    "    logging_dir = f\"{output_data_dir}/logs\",\n",
    "    learning_rate = float(learning_rate),\n",
    "    load_best_model_at_end = True,\n",
    "    metric_for_best_model = main_metric_for_evaluation,\n",
    ")"
   ]
  },
  {
   "cell_type": "markdown",
   "metadata": {},
   "source": [
    "Create Model Trainer\n",
    "************"
   ]
  },
  {
   "cell_type": "code",
   "execution_count": 15,
   "metadata": {},
   "outputs": [],
   "source": [
    "# Create Trainer instance\n",
    "trainer = Trainer(\n",
    "    model = model,\n",
    "    args = training_args,\n",
    "    compute_metrics = compute_metrics,\n",
    "    train_dataset = train_dataset,\n",
    "    eval_dataset = val_dataset,\n",
    "    data_collator = default_data_collator,\n",
    "    tokenizer = feature_extractor\n",
    ")"
   ]
  },
  {
   "cell_type": "markdown",
   "metadata": {},
   "source": [
    "Model Training\n",
    "************"
   ]
  },
  {
   "cell_type": "code",
   "execution_count": 16,
   "metadata": {},
   "outputs": [
    {
     "name": "stderr",
     "output_type": "stream",
     "text": [
      "c:\\Users\\Acer\\AppData\\Local\\Programs\\Python\\Python39\\lib\\site-packages\\transformers\\optimization.py:306: FutureWarning: This implementation of AdamW is deprecated and will be removed in a future version. Use the PyTorch implementation torch.optim.AdamW instead, or set `no_deprecation_warning=True` to disable this warning\n",
      "  warnings.warn(\n",
      "***** Running training *****\n",
      "  Num examples = 1404\n",
      "  Num Epochs = 15\n",
      "  Instantaneous batch size per device = 16\n",
      "  Total train batch size (w. parallel, distributed & accumulation) = 16\n",
      "  Gradient Accumulation steps = 1\n",
      "  Total optimization steps = 1320\n",
      "  Number of trainable parameters = 85804039\n",
      "  0%|          | 0/1320 [00:00<?, ?it/s]c:\\Users\\Acer\\AppData\\Local\\Programs\\Python\\Python39\\lib\\site-packages\\datasets\\features\\features.py:648: FutureWarning: pyarrow.PyExtensionType is deprecated and will refuse deserialization by default. Instead, please derive from pyarrow.ExtensionType and implement your own serialization mechanism.\n",
      "  pa.PyExtensionType.__init__(self, self.storage_dtype)\n",
      "  7%|▋         | 88/1320 [02:28<27:43,  1.35s/it] ***** Running Evaluation *****\n",
      "  Num examples = 402\n",
      "  Batch size = 16\n"
     ]
    },
    {
     "name": "stdout",
     "output_type": "stream",
     "text": [
      "{'loss': 1.9361, 'learning_rate': 3.52e-06, 'epoch': 1.0}\n"
     ]
    },
    {
     "name": "stderr",
     "output_type": "stream",
     "text": [
      "                                                 \n",
      "  7%|▋         | 88/1320 [02:43<27:43,  1.35s/it]Saving model checkpoint to ./model\\checkpoint-88\n",
      "Configuration saved in ./model\\checkpoint-88\\config.json\n"
     ]
    },
    {
     "name": "stdout",
     "output_type": "stream",
     "text": [
      "{'eval_loss': 1.911063313484192, 'eval_accuracy': 0.2562189054726368, 'eval_runtime': 14.7957, 'eval_samples_per_second': 27.17, 'eval_steps_per_second': 1.757, 'epoch': 1.0}\n"
     ]
    },
    {
     "name": "stderr",
     "output_type": "stream",
     "text": [
      "Model weights saved in ./model\\checkpoint-88\\pytorch_model.bin\n",
      "Image processor saved in ./model\\checkpoint-88\\preprocessor_config.json\n",
      "c:\\Users\\Acer\\AppData\\Local\\Programs\\Python\\Python39\\lib\\site-packages\\datasets\\features\\features.py:648: FutureWarning: pyarrow.PyExtensionType is deprecated and will refuse deserialization by default. Instead, please derive from pyarrow.ExtensionType and implement your own serialization mechanism.\n",
      "  pa.PyExtensionType.__init__(self, self.storage_dtype)\n",
      " 13%|█▎        | 176/1320 [04:49<24:46,  1.30s/it] ***** Running Evaluation *****\n",
      "  Num examples = 402\n",
      "  Batch size = 16\n"
     ]
    },
    {
     "name": "stdout",
     "output_type": "stream",
     "text": [
      "{'loss': 1.8319, 'learning_rate': 7.04e-06, 'epoch': 2.0}\n"
     ]
    },
    {
     "name": "stderr",
     "output_type": "stream",
     "text": [
      "                                                  \n",
      " 13%|█▎        | 176/1320 [05:03<24:46,  1.30s/it]Saving model checkpoint to ./model\\checkpoint-176\n",
      "Configuration saved in ./model\\checkpoint-176\\config.json\n"
     ]
    },
    {
     "name": "stdout",
     "output_type": "stream",
     "text": [
      "{'eval_loss': 1.7507089376449585, 'eval_accuracy': 0.5646766169154229, 'eval_runtime': 13.4732, 'eval_samples_per_second': 29.837, 'eval_steps_per_second': 1.93, 'epoch': 2.0}\n"
     ]
    },
    {
     "name": "stderr",
     "output_type": "stream",
     "text": [
      "Model weights saved in ./model\\checkpoint-176\\pytorch_model.bin\n",
      "Image processor saved in ./model\\checkpoint-176\\preprocessor_config.json\n",
      "c:\\Users\\Acer\\AppData\\Local\\Programs\\Python\\Python39\\lib\\site-packages\\datasets\\features\\features.py:648: FutureWarning: pyarrow.PyExtensionType is deprecated and will refuse deserialization by default. Instead, please derive from pyarrow.ExtensionType and implement your own serialization mechanism.\n",
      "  pa.PyExtensionType.__init__(self, self.storage_dtype)\n",
      " 20%|██        | 264/1320 [07:04<23:01,  1.31s/it]  ***** Running Evaluation *****\n",
      "  Num examples = 402\n",
      "  Batch size = 16\n"
     ]
    },
    {
     "name": "stdout",
     "output_type": "stream",
     "text": [
      "{'loss': 1.6068, 'learning_rate': 1.056e-05, 'epoch': 3.0}\n"
     ]
    },
    {
     "name": "stderr",
     "output_type": "stream",
     "text": [
      "                                                  \n",
      " 20%|██        | 264/1320 [07:18<23:01,  1.31s/it]Saving model checkpoint to ./model\\checkpoint-264\n",
      "Configuration saved in ./model\\checkpoint-264\\config.json\n"
     ]
    },
    {
     "name": "stdout",
     "output_type": "stream",
     "text": [
      "{'eval_loss': 1.4582489728927612, 'eval_accuracy': 0.6915422885572139, 'eval_runtime': 13.4172, 'eval_samples_per_second': 29.961, 'eval_steps_per_second': 1.938, 'epoch': 3.0}\n"
     ]
    },
    {
     "name": "stderr",
     "output_type": "stream",
     "text": [
      "Model weights saved in ./model\\checkpoint-264\\pytorch_model.bin\n",
      "Image processor saved in ./model\\checkpoint-264\\preprocessor_config.json\n",
      "c:\\Users\\Acer\\AppData\\Local\\Programs\\Python\\Python39\\lib\\site-packages\\datasets\\features\\features.py:648: FutureWarning: pyarrow.PyExtensionType is deprecated and will refuse deserialization by default. Instead, please derive from pyarrow.ExtensionType and implement your own serialization mechanism.\n",
      "  pa.PyExtensionType.__init__(self, self.storage_dtype)\n",
      " 27%|██▋       | 352/1320 [09:20<21:04,  1.31s/it]  ***** Running Evaluation *****\n",
      "  Num examples = 402\n",
      "  Batch size = 16\n"
     ]
    },
    {
     "name": "stdout",
     "output_type": "stream",
     "text": [
      "{'loss': 1.266, 'learning_rate': 1.408e-05, 'epoch': 4.0}\n"
     ]
    },
    {
     "name": "stderr",
     "output_type": "stream",
     "text": [
      "                                                  \n",
      " 27%|██▋       | 352/1320 [09:34<21:04,  1.31s/it]Saving model checkpoint to ./model\\checkpoint-352\n",
      "Configuration saved in ./model\\checkpoint-352\\config.json\n"
     ]
    },
    {
     "name": "stdout",
     "output_type": "stream",
     "text": [
      "{'eval_loss': 1.0997294187545776, 'eval_accuracy': 0.7189054726368159, 'eval_runtime': 13.3768, 'eval_samples_per_second': 30.052, 'eval_steps_per_second': 1.944, 'epoch': 4.0}\n"
     ]
    },
    {
     "name": "stderr",
     "output_type": "stream",
     "text": [
      "Model weights saved in ./model\\checkpoint-352\\pytorch_model.bin\n",
      "Image processor saved in ./model\\checkpoint-352\\preprocessor_config.json\n",
      "c:\\Users\\Acer\\AppData\\Local\\Programs\\Python\\Python39\\lib\\site-packages\\datasets\\features\\features.py:648: FutureWarning: pyarrow.PyExtensionType is deprecated and will refuse deserialization by default. Instead, please derive from pyarrow.ExtensionType and implement your own serialization mechanism.\n",
      "  pa.PyExtensionType.__init__(self, self.storage_dtype)\n",
      " 33%|███▎      | 440/1320 [11:37<19:09,  1.31s/it]  ***** Running Evaluation *****\n",
      "  Num examples = 402\n",
      "  Batch size = 16\n"
     ]
    },
    {
     "name": "stdout",
     "output_type": "stream",
     "text": [
      "{'loss': 0.9453, 'learning_rate': 1.76e-05, 'epoch': 5.0}\n"
     ]
    },
    {
     "name": "stderr",
     "output_type": "stream",
     "text": [
      "                                                  \n",
      " 33%|███▎      | 440/1320 [11:51<19:09,  1.31s/it]Saving model checkpoint to ./model\\checkpoint-440\n",
      "Configuration saved in ./model\\checkpoint-440\\config.json\n"
     ]
    },
    {
     "name": "stdout",
     "output_type": "stream",
     "text": [
      "{'eval_loss': 0.9107687473297119, 'eval_accuracy': 0.7512437810945274, 'eval_runtime': 13.421, 'eval_samples_per_second': 29.953, 'eval_steps_per_second': 1.937, 'epoch': 5.0}\n"
     ]
    },
    {
     "name": "stderr",
     "output_type": "stream",
     "text": [
      "Model weights saved in ./model\\checkpoint-440\\pytorch_model.bin\n",
      "Image processor saved in ./model\\checkpoint-440\\preprocessor_config.json\n",
      "c:\\Users\\Acer\\AppData\\Local\\Programs\\Python\\Python39\\lib\\site-packages\\datasets\\features\\features.py:648: FutureWarning: pyarrow.PyExtensionType is deprecated and will refuse deserialization by default. Instead, please derive from pyarrow.ExtensionType and implement your own serialization mechanism.\n",
      "  pa.PyExtensionType.__init__(self, self.storage_dtype)\n",
      " 40%|████      | 528/1320 [13:53<16:54,  1.28s/it]  ***** Running Evaluation *****\n",
      "  Num examples = 402\n",
      "  Batch size = 16\n"
     ]
    },
    {
     "name": "stdout",
     "output_type": "stream",
     "text": [
      "{'loss': 0.7165, 'learning_rate': 1.931707317073171e-05, 'epoch': 6.0}\n"
     ]
    },
    {
     "name": "stderr",
     "output_type": "stream",
     "text": [
      "                                                  \n",
      " 40%|████      | 528/1320 [14:06<16:54,  1.28s/it]Saving model checkpoint to ./model\\checkpoint-528\n",
      "Configuration saved in ./model\\checkpoint-528\\config.json\n"
     ]
    },
    {
     "name": "stdout",
     "output_type": "stream",
     "text": [
      "{'eval_loss': 0.8044211864471436, 'eval_accuracy': 0.7686567164179104, 'eval_runtime': 13.3137, 'eval_samples_per_second': 30.194, 'eval_steps_per_second': 1.953, 'epoch': 6.0}\n"
     ]
    },
    {
     "name": "stderr",
     "output_type": "stream",
     "text": [
      "Model weights saved in ./model\\checkpoint-528\\pytorch_model.bin\n",
      "Image processor saved in ./model\\checkpoint-528\\preprocessor_config.json\n",
      "c:\\Users\\Acer\\AppData\\Local\\Programs\\Python\\Python39\\lib\\site-packages\\datasets\\features\\features.py:648: FutureWarning: pyarrow.PyExtensionType is deprecated and will refuse deserialization by default. Instead, please derive from pyarrow.ExtensionType and implement your own serialization mechanism.\n",
      "  pa.PyExtensionType.__init__(self, self.storage_dtype)\n",
      " 47%|████▋     | 616/1320 [16:07<15:11,  1.29s/it]  ***** Running Evaluation *****\n",
      "  Num examples = 402\n",
      "  Batch size = 16\n"
     ]
    },
    {
     "name": "stdout",
     "output_type": "stream",
     "text": [
      "{'loss': 0.5269, 'learning_rate': 1.7170731707317075e-05, 'epoch': 7.0}\n"
     ]
    },
    {
     "name": "stderr",
     "output_type": "stream",
     "text": [
      "                                                  \n",
      " 47%|████▋     | 616/1320 [16:20<15:11,  1.29s/it]Saving model checkpoint to ./model\\checkpoint-616\n",
      "Configuration saved in ./model\\checkpoint-616\\config.json\n"
     ]
    },
    {
     "name": "stdout",
     "output_type": "stream",
     "text": [
      "{'eval_loss': 0.7467602491378784, 'eval_accuracy': 0.7611940298507462, 'eval_runtime': 13.3742, 'eval_samples_per_second': 30.058, 'eval_steps_per_second': 1.944, 'epoch': 7.0}\n"
     ]
    },
    {
     "name": "stderr",
     "output_type": "stream",
     "text": [
      "Model weights saved in ./model\\checkpoint-616\\pytorch_model.bin\n",
      "Image processor saved in ./model\\checkpoint-616\\preprocessor_config.json\n",
      "c:\\Users\\Acer\\AppData\\Local\\Programs\\Python\\Python39\\lib\\site-packages\\datasets\\features\\features.py:648: FutureWarning: pyarrow.PyExtensionType is deprecated and will refuse deserialization by default. Instead, please derive from pyarrow.ExtensionType and implement your own serialization mechanism.\n",
      "  pa.PyExtensionType.__init__(self, self.storage_dtype)\n",
      " 53%|█████▎    | 704/1320 [18:26<13:30,  1.32s/it]  ***** Running Evaluation *****\n",
      "  Num examples = 402\n",
      "  Batch size = 16\n"
     ]
    },
    {
     "name": "stdout",
     "output_type": "stream",
     "text": [
      "{'loss': 0.3794, 'learning_rate': 1.502439024390244e-05, 'epoch': 8.0}\n"
     ]
    },
    {
     "name": "stderr",
     "output_type": "stream",
     "text": [
      "                                                  \n",
      " 53%|█████▎    | 704/1320 [18:39<13:30,  1.32s/it]Saving model checkpoint to ./model\\checkpoint-704\n",
      "Configuration saved in ./model\\checkpoint-704\\config.json\n"
     ]
    },
    {
     "name": "stdout",
     "output_type": "stream",
     "text": [
      "{'eval_loss': 0.7424114346504211, 'eval_accuracy': 0.763681592039801, 'eval_runtime': 13.5073, 'eval_samples_per_second': 29.762, 'eval_steps_per_second': 1.925, 'epoch': 8.0}\n"
     ]
    },
    {
     "name": "stderr",
     "output_type": "stream",
     "text": [
      "Model weights saved in ./model\\checkpoint-704\\pytorch_model.bin\n",
      "Image processor saved in ./model\\checkpoint-704\\preprocessor_config.json\n",
      "c:\\Users\\Acer\\AppData\\Local\\Programs\\Python\\Python39\\lib\\site-packages\\datasets\\features\\features.py:648: FutureWarning: pyarrow.PyExtensionType is deprecated and will refuse deserialization by default. Instead, please derive from pyarrow.ExtensionType and implement your own serialization mechanism.\n",
      "  pa.PyExtensionType.__init__(self, self.storage_dtype)\n",
      " 60%|██████    | 792/1320 [20:42<11:17,  1.28s/it]  ***** Running Evaluation *****\n",
      "  Num examples = 402\n",
      "  Batch size = 16\n"
     ]
    },
    {
     "name": "stdout",
     "output_type": "stream",
     "text": [
      "{'loss': 0.2692, 'learning_rate': 1.2878048780487807e-05, 'epoch': 9.0}\n"
     ]
    },
    {
     "name": "stderr",
     "output_type": "stream",
     "text": [
      "                                                  \n",
      " 60%|██████    | 792/1320 [20:54<11:17,  1.28s/it]Saving model checkpoint to ./model\\checkpoint-792\n",
      "Configuration saved in ./model\\checkpoint-792\\config.json\n"
     ]
    },
    {
     "name": "stdout",
     "output_type": "stream",
     "text": [
      "{'eval_loss': 0.7467082142829895, 'eval_accuracy': 0.7587064676616916, 'eval_runtime': 12.5954, 'eval_samples_per_second': 31.916, 'eval_steps_per_second': 2.064, 'epoch': 9.0}\n"
     ]
    },
    {
     "name": "stderr",
     "output_type": "stream",
     "text": [
      "Model weights saved in ./model\\checkpoint-792\\pytorch_model.bin\n",
      "Image processor saved in ./model\\checkpoint-792\\preprocessor_config.json\n",
      "c:\\Users\\Acer\\AppData\\Local\\Programs\\Python\\Python39\\lib\\site-packages\\datasets\\features\\features.py:648: FutureWarning: pyarrow.PyExtensionType is deprecated and will refuse deserialization by default. Instead, please derive from pyarrow.ExtensionType and implement your own serialization mechanism.\n",
      "  pa.PyExtensionType.__init__(self, self.storage_dtype)\n",
      " 67%|██████▋   | 880/1320 [22:31<07:18,  1.00it/s]***** Running Evaluation *****\n",
      "  Num examples = 402\n",
      "  Batch size = 16\n"
     ]
    },
    {
     "name": "stdout",
     "output_type": "stream",
     "text": [
      "{'loss': 0.2001, 'learning_rate': 1.0731707317073172e-05, 'epoch': 10.0}\n"
     ]
    },
    {
     "name": "stderr",
     "output_type": "stream",
     "text": [
      "                                                  \n",
      " 67%|██████▋   | 880/1320 [22:43<07:18,  1.00it/s]Saving model checkpoint to ./model\\checkpoint-880\n",
      "Configuration saved in ./model\\checkpoint-880\\config.json\n"
     ]
    },
    {
     "name": "stdout",
     "output_type": "stream",
     "text": [
      "{'eval_loss': 0.7629241347312927, 'eval_accuracy': 0.7512437810945274, 'eval_runtime': 11.3636, 'eval_samples_per_second': 35.376, 'eval_steps_per_second': 2.288, 'epoch': 10.0}\n"
     ]
    },
    {
     "name": "stderr",
     "output_type": "stream",
     "text": [
      "Model weights saved in ./model\\checkpoint-880\\pytorch_model.bin\n",
      "Image processor saved in ./model\\checkpoint-880\\preprocessor_config.json\n",
      "c:\\Users\\Acer\\AppData\\Local\\Programs\\Python\\Python39\\lib\\site-packages\\datasets\\features\\features.py:648: FutureWarning: pyarrow.PyExtensionType is deprecated and will refuse deserialization by default. Instead, please derive from pyarrow.ExtensionType and implement your own serialization mechanism.\n",
      "  pa.PyExtensionType.__init__(self, self.storage_dtype)\n",
      " 73%|███████▎  | 968/1320 [24:18<05:55,  1.01s/it]***** Running Evaluation *****\n",
      "  Num examples = 402\n",
      "  Batch size = 16\n"
     ]
    },
    {
     "name": "stdout",
     "output_type": "stream",
     "text": [
      "{'loss': 0.1567, 'learning_rate': 8.585365853658537e-06, 'epoch': 11.0}\n"
     ]
    },
    {
     "name": "stderr",
     "output_type": "stream",
     "text": [
      "                                                  \n",
      " 73%|███████▎  | 968/1320 [24:29<05:55,  1.01s/it]Saving model checkpoint to ./model\\checkpoint-968\n",
      "Configuration saved in ./model\\checkpoint-968\\config.json\n"
     ]
    },
    {
     "name": "stdout",
     "output_type": "stream",
     "text": [
      "{'eval_loss': 0.7916864156723022, 'eval_accuracy': 0.7611940298507462, 'eval_runtime': 11.3451, 'eval_samples_per_second': 35.434, 'eval_steps_per_second': 2.292, 'epoch': 11.0}\n"
     ]
    },
    {
     "name": "stderr",
     "output_type": "stream",
     "text": [
      "Model weights saved in ./model\\checkpoint-968\\pytorch_model.bin\n",
      "Image processor saved in ./model\\checkpoint-968\\preprocessor_config.json\n",
      "c:\\Users\\Acer\\AppData\\Local\\Programs\\Python\\Python39\\lib\\site-packages\\datasets\\features\\features.py:648: FutureWarning: pyarrow.PyExtensionType is deprecated and will refuse deserialization by default. Instead, please derive from pyarrow.ExtensionType and implement your own serialization mechanism.\n",
      "  pa.PyExtensionType.__init__(self, self.storage_dtype)\n",
      " 80%|████████  | 1056/1320 [26:16<04:18,  1.02it/s]***** Running Evaluation *****\n",
      "  Num examples = 402\n",
      "  Batch size = 16\n"
     ]
    },
    {
     "name": "stdout",
     "output_type": "stream",
     "text": [
      "{'loss': 0.1326, 'learning_rate': 6.439024390243903e-06, 'epoch': 12.0}\n"
     ]
    },
    {
     "name": "stderr",
     "output_type": "stream",
     "text": [
      "                                                   \n",
      " 80%|████████  | 1056/1320 [26:27<04:18,  1.02it/s]Saving model checkpoint to ./model\\checkpoint-1056\n",
      "Configuration saved in ./model\\checkpoint-1056\\config.json\n"
     ]
    },
    {
     "name": "stdout",
     "output_type": "stream",
     "text": [
      "{'eval_loss': 0.7851284742355347, 'eval_accuracy': 0.7512437810945274, 'eval_runtime': 10.8328, 'eval_samples_per_second': 37.11, 'eval_steps_per_second': 2.4, 'epoch': 12.0}\n"
     ]
    },
    {
     "name": "stderr",
     "output_type": "stream",
     "text": [
      "Model weights saved in ./model\\checkpoint-1056\\pytorch_model.bin\n",
      "Image processor saved in ./model\\checkpoint-1056\\preprocessor_config.json\n",
      "c:\\Users\\Acer\\AppData\\Local\\Programs\\Python\\Python39\\lib\\site-packages\\datasets\\features\\features.py:648: FutureWarning: pyarrow.PyExtensionType is deprecated and will refuse deserialization by default. Instead, please derive from pyarrow.ExtensionType and implement your own serialization mechanism.\n",
      "  pa.PyExtensionType.__init__(self, self.storage_dtype)\n",
      " 87%|████████▋ | 1144/1320 [27:58<02:51,  1.02it/s]***** Running Evaluation *****\n",
      "  Num examples = 402\n",
      "  Batch size = 16\n"
     ]
    },
    {
     "name": "stdout",
     "output_type": "stream",
     "text": [
      "{'loss': 0.1156, 'learning_rate': 4.292682926829269e-06, 'epoch': 13.0}\n"
     ]
    },
    {
     "name": "stderr",
     "output_type": "stream",
     "text": [
      "                                                   \n",
      " 87%|████████▋ | 1144/1320 [28:09<02:51,  1.02it/s]Saving model checkpoint to ./model\\checkpoint-1144\n",
      "Configuration saved in ./model\\checkpoint-1144\\config.json\n"
     ]
    },
    {
     "name": "stdout",
     "output_type": "stream",
     "text": [
      "{'eval_loss': 0.799199640750885, 'eval_accuracy': 0.7487562189054726, 'eval_runtime': 10.6865, 'eval_samples_per_second': 37.618, 'eval_steps_per_second': 2.433, 'epoch': 13.0}\n"
     ]
    },
    {
     "name": "stderr",
     "output_type": "stream",
     "text": [
      "Model weights saved in ./model\\checkpoint-1144\\pytorch_model.bin\n",
      "Image processor saved in ./model\\checkpoint-1144\\preprocessor_config.json\n",
      "c:\\Users\\Acer\\AppData\\Local\\Programs\\Python\\Python39\\lib\\site-packages\\datasets\\features\\features.py:648: FutureWarning: pyarrow.PyExtensionType is deprecated and will refuse deserialization by default. Instead, please derive from pyarrow.ExtensionType and implement your own serialization mechanism.\n",
      "  pa.PyExtensionType.__init__(self, self.storage_dtype)\n",
      " 93%|█████████▎| 1232/1320 [29:40<01:25,  1.02it/s]***** Running Evaluation *****\n",
      "  Num examples = 402\n",
      "  Batch size = 16\n"
     ]
    },
    {
     "name": "stdout",
     "output_type": "stream",
     "text": [
      "{'loss': 0.1065, 'learning_rate': 2.1463414634146343e-06, 'epoch': 14.0}\n"
     ]
    },
    {
     "name": "stderr",
     "output_type": "stream",
     "text": [
      "                                                   \n",
      " 93%|█████████▎| 1232/1320 [29:51<01:25,  1.02it/s]Saving model checkpoint to ./model\\checkpoint-1232\n",
      "Configuration saved in ./model\\checkpoint-1232\\config.json\n"
     ]
    },
    {
     "name": "stdout",
     "output_type": "stream",
     "text": [
      "{'eval_loss': 0.802135705947876, 'eval_accuracy': 0.7487562189054726, 'eval_runtime': 10.7612, 'eval_samples_per_second': 37.356, 'eval_steps_per_second': 2.416, 'epoch': 14.0}\n"
     ]
    },
    {
     "name": "stderr",
     "output_type": "stream",
     "text": [
      "Model weights saved in ./model\\checkpoint-1232\\pytorch_model.bin\n",
      "Image processor saved in ./model\\checkpoint-1232\\preprocessor_config.json\n",
      "c:\\Users\\Acer\\AppData\\Local\\Programs\\Python\\Python39\\lib\\site-packages\\datasets\\features\\features.py:648: FutureWarning: pyarrow.PyExtensionType is deprecated and will refuse deserialization by default. Instead, please derive from pyarrow.ExtensionType and implement your own serialization mechanism.\n",
      "  pa.PyExtensionType.__init__(self, self.storage_dtype)\n",
      "100%|██████████| 1320/1320 [31:26<00:00,  1.05s/it]***** Running Evaluation *****\n",
      "  Num examples = 402\n",
      "  Batch size = 16\n"
     ]
    },
    {
     "name": "stdout",
     "output_type": "stream",
     "text": [
      "{'loss': 0.1028, 'learning_rate': 0.0, 'epoch': 15.0}\n"
     ]
    },
    {
     "name": "stderr",
     "output_type": "stream",
     "text": [
      "                                                   \n",
      "100%|██████████| 1320/1320 [31:39<00:00,  1.05s/it]Saving model checkpoint to ./model\\checkpoint-1320\n",
      "Configuration saved in ./model\\checkpoint-1320\\config.json\n"
     ]
    },
    {
     "name": "stdout",
     "output_type": "stream",
     "text": [
      "{'eval_loss': 0.8089865446090698, 'eval_accuracy': 0.746268656716418, 'eval_runtime': 12.2438, 'eval_samples_per_second': 32.833, 'eval_steps_per_second': 2.124, 'epoch': 15.0}\n"
     ]
    },
    {
     "name": "stderr",
     "output_type": "stream",
     "text": [
      "Model weights saved in ./model\\checkpoint-1320\\pytorch_model.bin\n",
      "Image processor saved in ./model\\checkpoint-1320\\preprocessor_config.json\n",
      "\n",
      "\n",
      "Training completed. Do not forget to share your model on huggingface.co/models =)\n",
      "\n",
      "\n",
      "Loading best model from ./model\\checkpoint-528 (score: 0.7686567164179104).\n",
      "100%|██████████| 1320/1320 [31:41<00:00,  1.44s/it]"
     ]
    },
    {
     "name": "stdout",
     "output_type": "stream",
     "text": [
      "{'train_runtime': 1901.1092, 'train_samples_per_second': 11.078, 'train_steps_per_second': 0.694, 'train_loss': 0.6861789912888498, 'epoch': 15.0}\n"
     ]
    },
    {
     "name": "stderr",
     "output_type": "stream",
     "text": [
      "\n"
     ]
    },
    {
     "data": {
      "text/plain": [
       "TrainOutput(global_step=1320, training_loss=0.6861789912888498, metrics={'train_runtime': 1901.1092, 'train_samples_per_second': 11.078, 'train_steps_per_second': 0.694, 'train_loss': 0.6861789912888498, 'epoch': 15.0})"
      ]
     },
     "execution_count": 16,
     "metadata": {},
     "output_type": "execute_result"
    }
   ],
   "source": [
    "torch.cuda.empty_cache()\n",
    "trainer.train() "
   ]
  },
  {
   "cell_type": "markdown",
   "metadata": {},
   "source": [
    "Model Training History\n",
    "************"
   ]
  },
  {
   "cell_type": "code",
   "execution_count": 17,
   "metadata": {},
   "outputs": [
    {
     "data": {
      "text/html": [
       "<div>\n",
       "<style scoped>\n",
       "    .dataframe tbody tr th:only-of-type {\n",
       "        vertical-align: middle;\n",
       "    }\n",
       "\n",
       "    .dataframe tbody tr th {\n",
       "        vertical-align: top;\n",
       "    }\n",
       "\n",
       "    .dataframe thead th {\n",
       "        text-align: right;\n",
       "    }\n",
       "</style>\n",
       "<table border=\"1\" class=\"dataframe\">\n",
       "  <thead>\n",
       "    <tr style=\"text-align: right;\">\n",
       "      <th></th>\n",
       "      <th>loss</th>\n",
       "      <th>learning_rate</th>\n",
       "      <th>step</th>\n",
       "      <th>eval_loss</th>\n",
       "      <th>eval_accuracy</th>\n",
       "      <th>eval_runtime</th>\n",
       "      <th>eval_samples_per_second</th>\n",
       "      <th>eval_steps_per_second</th>\n",
       "      <th>train_runtime</th>\n",
       "      <th>train_samples_per_second</th>\n",
       "      <th>train_steps_per_second</th>\n",
       "      <th>total_flos</th>\n",
       "      <th>train_loss</th>\n",
       "    </tr>\n",
       "    <tr>\n",
       "      <th>epoch</th>\n",
       "      <th></th>\n",
       "      <th></th>\n",
       "      <th></th>\n",
       "      <th></th>\n",
       "      <th></th>\n",
       "      <th></th>\n",
       "      <th></th>\n",
       "      <th></th>\n",
       "      <th></th>\n",
       "      <th></th>\n",
       "      <th></th>\n",
       "      <th></th>\n",
       "      <th></th>\n",
       "    </tr>\n",
       "  </thead>\n",
       "  <tbody>\n",
       "    <tr>\n",
       "      <th>1.0</th>\n",
       "      <td>1.9361</td>\n",
       "      <td>0.000004</td>\n",
       "      <td>176</td>\n",
       "      <td>1.911063</td>\n",
       "      <td>0.256219</td>\n",
       "      <td>14.7957</td>\n",
       "      <td>27.170</td>\n",
       "      <td>1.757</td>\n",
       "      <td>0.0000</td>\n",
       "      <td>0.000</td>\n",
       "      <td>0.000</td>\n",
       "      <td>0.000000e+00</td>\n",
       "      <td>0.000000</td>\n",
       "    </tr>\n",
       "    <tr>\n",
       "      <th>2.0</th>\n",
       "      <td>1.8319</td>\n",
       "      <td>0.000007</td>\n",
       "      <td>352</td>\n",
       "      <td>1.750709</td>\n",
       "      <td>0.564677</td>\n",
       "      <td>13.4732</td>\n",
       "      <td>29.837</td>\n",
       "      <td>1.930</td>\n",
       "      <td>0.0000</td>\n",
       "      <td>0.000</td>\n",
       "      <td>0.000</td>\n",
       "      <td>0.000000e+00</td>\n",
       "      <td>0.000000</td>\n",
       "    </tr>\n",
       "    <tr>\n",
       "      <th>3.0</th>\n",
       "      <td>1.6068</td>\n",
       "      <td>0.000011</td>\n",
       "      <td>528</td>\n",
       "      <td>1.458249</td>\n",
       "      <td>0.691542</td>\n",
       "      <td>13.4172</td>\n",
       "      <td>29.961</td>\n",
       "      <td>1.938</td>\n",
       "      <td>0.0000</td>\n",
       "      <td>0.000</td>\n",
       "      <td>0.000</td>\n",
       "      <td>0.000000e+00</td>\n",
       "      <td>0.000000</td>\n",
       "    </tr>\n",
       "    <tr>\n",
       "      <th>4.0</th>\n",
       "      <td>1.2660</td>\n",
       "      <td>0.000014</td>\n",
       "      <td>704</td>\n",
       "      <td>1.099729</td>\n",
       "      <td>0.718905</td>\n",
       "      <td>13.3768</td>\n",
       "      <td>30.052</td>\n",
       "      <td>1.944</td>\n",
       "      <td>0.0000</td>\n",
       "      <td>0.000</td>\n",
       "      <td>0.000</td>\n",
       "      <td>0.000000e+00</td>\n",
       "      <td>0.000000</td>\n",
       "    </tr>\n",
       "    <tr>\n",
       "      <th>5.0</th>\n",
       "      <td>0.9453</td>\n",
       "      <td>0.000018</td>\n",
       "      <td>880</td>\n",
       "      <td>0.910769</td>\n",
       "      <td>0.751244</td>\n",
       "      <td>13.4210</td>\n",
       "      <td>29.953</td>\n",
       "      <td>1.937</td>\n",
       "      <td>0.0000</td>\n",
       "      <td>0.000</td>\n",
       "      <td>0.000</td>\n",
       "      <td>0.000000e+00</td>\n",
       "      <td>0.000000</td>\n",
       "    </tr>\n",
       "    <tr>\n",
       "      <th>6.0</th>\n",
       "      <td>0.7165</td>\n",
       "      <td>0.000019</td>\n",
       "      <td>1056</td>\n",
       "      <td>0.804421</td>\n",
       "      <td>0.768657</td>\n",
       "      <td>13.3137</td>\n",
       "      <td>30.194</td>\n",
       "      <td>1.953</td>\n",
       "      <td>0.0000</td>\n",
       "      <td>0.000</td>\n",
       "      <td>0.000</td>\n",
       "      <td>0.000000e+00</td>\n",
       "      <td>0.000000</td>\n",
       "    </tr>\n",
       "    <tr>\n",
       "      <th>7.0</th>\n",
       "      <td>0.5269</td>\n",
       "      <td>0.000017</td>\n",
       "      <td>1232</td>\n",
       "      <td>0.746760</td>\n",
       "      <td>0.761194</td>\n",
       "      <td>13.3742</td>\n",
       "      <td>30.058</td>\n",
       "      <td>1.944</td>\n",
       "      <td>0.0000</td>\n",
       "      <td>0.000</td>\n",
       "      <td>0.000</td>\n",
       "      <td>0.000000e+00</td>\n",
       "      <td>0.000000</td>\n",
       "    </tr>\n",
       "    <tr>\n",
       "      <th>8.0</th>\n",
       "      <td>0.3794</td>\n",
       "      <td>0.000015</td>\n",
       "      <td>1408</td>\n",
       "      <td>0.742411</td>\n",
       "      <td>0.763682</td>\n",
       "      <td>13.5073</td>\n",
       "      <td>29.762</td>\n",
       "      <td>1.925</td>\n",
       "      <td>0.0000</td>\n",
       "      <td>0.000</td>\n",
       "      <td>0.000</td>\n",
       "      <td>0.000000e+00</td>\n",
       "      <td>0.000000</td>\n",
       "    </tr>\n",
       "    <tr>\n",
       "      <th>9.0</th>\n",
       "      <td>0.2692</td>\n",
       "      <td>0.000013</td>\n",
       "      <td>1584</td>\n",
       "      <td>0.746708</td>\n",
       "      <td>0.758706</td>\n",
       "      <td>12.5954</td>\n",
       "      <td>31.916</td>\n",
       "      <td>2.064</td>\n",
       "      <td>0.0000</td>\n",
       "      <td>0.000</td>\n",
       "      <td>0.000</td>\n",
       "      <td>0.000000e+00</td>\n",
       "      <td>0.000000</td>\n",
       "    </tr>\n",
       "    <tr>\n",
       "      <th>10.0</th>\n",
       "      <td>0.2001</td>\n",
       "      <td>0.000011</td>\n",
       "      <td>1760</td>\n",
       "      <td>0.762924</td>\n",
       "      <td>0.751244</td>\n",
       "      <td>11.3636</td>\n",
       "      <td>35.376</td>\n",
       "      <td>2.288</td>\n",
       "      <td>0.0000</td>\n",
       "      <td>0.000</td>\n",
       "      <td>0.000</td>\n",
       "      <td>0.000000e+00</td>\n",
       "      <td>0.000000</td>\n",
       "    </tr>\n",
       "    <tr>\n",
       "      <th>11.0</th>\n",
       "      <td>0.1567</td>\n",
       "      <td>0.000009</td>\n",
       "      <td>1936</td>\n",
       "      <td>0.791686</td>\n",
       "      <td>0.761194</td>\n",
       "      <td>11.3451</td>\n",
       "      <td>35.434</td>\n",
       "      <td>2.292</td>\n",
       "      <td>0.0000</td>\n",
       "      <td>0.000</td>\n",
       "      <td>0.000</td>\n",
       "      <td>0.000000e+00</td>\n",
       "      <td>0.000000</td>\n",
       "    </tr>\n",
       "    <tr>\n",
       "      <th>12.0</th>\n",
       "      <td>0.1326</td>\n",
       "      <td>0.000006</td>\n",
       "      <td>2112</td>\n",
       "      <td>0.785128</td>\n",
       "      <td>0.751244</td>\n",
       "      <td>10.8328</td>\n",
       "      <td>37.110</td>\n",
       "      <td>2.400</td>\n",
       "      <td>0.0000</td>\n",
       "      <td>0.000</td>\n",
       "      <td>0.000</td>\n",
       "      <td>0.000000e+00</td>\n",
       "      <td>0.000000</td>\n",
       "    </tr>\n",
       "    <tr>\n",
       "      <th>13.0</th>\n",
       "      <td>0.1156</td>\n",
       "      <td>0.000004</td>\n",
       "      <td>2288</td>\n",
       "      <td>0.799200</td>\n",
       "      <td>0.748756</td>\n",
       "      <td>10.6865</td>\n",
       "      <td>37.618</td>\n",
       "      <td>2.433</td>\n",
       "      <td>0.0000</td>\n",
       "      <td>0.000</td>\n",
       "      <td>0.000</td>\n",
       "      <td>0.000000e+00</td>\n",
       "      <td>0.000000</td>\n",
       "    </tr>\n",
       "    <tr>\n",
       "      <th>14.0</th>\n",
       "      <td>0.1065</td>\n",
       "      <td>0.000002</td>\n",
       "      <td>2464</td>\n",
       "      <td>0.802136</td>\n",
       "      <td>0.748756</td>\n",
       "      <td>10.7612</td>\n",
       "      <td>37.356</td>\n",
       "      <td>2.416</td>\n",
       "      <td>0.0000</td>\n",
       "      <td>0.000</td>\n",
       "      <td>0.000</td>\n",
       "      <td>0.000000e+00</td>\n",
       "      <td>0.000000</td>\n",
       "    </tr>\n",
       "    <tr>\n",
       "      <th>15.0</th>\n",
       "      <td>0.1028</td>\n",
       "      <td>0.000000</td>\n",
       "      <td>3960</td>\n",
       "      <td>0.808987</td>\n",
       "      <td>0.746269</td>\n",
       "      <td>12.2438</td>\n",
       "      <td>32.833</td>\n",
       "      <td>2.124</td>\n",
       "      <td>1901.1092</td>\n",
       "      <td>11.078</td>\n",
       "      <td>0.694</td>\n",
       "      <td>1.632054e+18</td>\n",
       "      <td>0.686179</td>\n",
       "    </tr>\n",
       "  </tbody>\n",
       "</table>\n",
       "</div>"
      ],
      "text/plain": [
       "         loss  learning_rate  step  eval_loss  eval_accuracy  eval_runtime  \\\n",
       "epoch                                                                        \n",
       "1.0    1.9361       0.000004   176   1.911063       0.256219       14.7957   \n",
       "2.0    1.8319       0.000007   352   1.750709       0.564677       13.4732   \n",
       "3.0    1.6068       0.000011   528   1.458249       0.691542       13.4172   \n",
       "4.0    1.2660       0.000014   704   1.099729       0.718905       13.3768   \n",
       "5.0    0.9453       0.000018   880   0.910769       0.751244       13.4210   \n",
       "6.0    0.7165       0.000019  1056   0.804421       0.768657       13.3137   \n",
       "7.0    0.5269       0.000017  1232   0.746760       0.761194       13.3742   \n",
       "8.0    0.3794       0.000015  1408   0.742411       0.763682       13.5073   \n",
       "9.0    0.2692       0.000013  1584   0.746708       0.758706       12.5954   \n",
       "10.0   0.2001       0.000011  1760   0.762924       0.751244       11.3636   \n",
       "11.0   0.1567       0.000009  1936   0.791686       0.761194       11.3451   \n",
       "12.0   0.1326       0.000006  2112   0.785128       0.751244       10.8328   \n",
       "13.0   0.1156       0.000004  2288   0.799200       0.748756       10.6865   \n",
       "14.0   0.1065       0.000002  2464   0.802136       0.748756       10.7612   \n",
       "15.0   0.1028       0.000000  3960   0.808987       0.746269       12.2438   \n",
       "\n",
       "       eval_samples_per_second  eval_steps_per_second  train_runtime  \\\n",
       "epoch                                                                  \n",
       "1.0                     27.170                  1.757         0.0000   \n",
       "2.0                     29.837                  1.930         0.0000   \n",
       "3.0                     29.961                  1.938         0.0000   \n",
       "4.0                     30.052                  1.944         0.0000   \n",
       "5.0                     29.953                  1.937         0.0000   \n",
       "6.0                     30.194                  1.953         0.0000   \n",
       "7.0                     30.058                  1.944         0.0000   \n",
       "8.0                     29.762                  1.925         0.0000   \n",
       "9.0                     31.916                  2.064         0.0000   \n",
       "10.0                    35.376                  2.288         0.0000   \n",
       "11.0                    35.434                  2.292         0.0000   \n",
       "12.0                    37.110                  2.400         0.0000   \n",
       "13.0                    37.618                  2.433         0.0000   \n",
       "14.0                    37.356                  2.416         0.0000   \n",
       "15.0                    32.833                  2.124      1901.1092   \n",
       "\n",
       "       train_samples_per_second  train_steps_per_second    total_flos  \\\n",
       "epoch                                                                   \n",
       "1.0                       0.000                   0.000  0.000000e+00   \n",
       "2.0                       0.000                   0.000  0.000000e+00   \n",
       "3.0                       0.000                   0.000  0.000000e+00   \n",
       "4.0                       0.000                   0.000  0.000000e+00   \n",
       "5.0                       0.000                   0.000  0.000000e+00   \n",
       "6.0                       0.000                   0.000  0.000000e+00   \n",
       "7.0                       0.000                   0.000  0.000000e+00   \n",
       "8.0                       0.000                   0.000  0.000000e+00   \n",
       "9.0                       0.000                   0.000  0.000000e+00   \n",
       "10.0                      0.000                   0.000  0.000000e+00   \n",
       "11.0                      0.000                   0.000  0.000000e+00   \n",
       "12.0                      0.000                   0.000  0.000000e+00   \n",
       "13.0                      0.000                   0.000  0.000000e+00   \n",
       "14.0                      0.000                   0.000  0.000000e+00   \n",
       "15.0                     11.078                   0.694  1.632054e+18   \n",
       "\n",
       "       train_loss  \n",
       "epoch              \n",
       "1.0      0.000000  \n",
       "2.0      0.000000  \n",
       "3.0      0.000000  \n",
       "4.0      0.000000  \n",
       "5.0      0.000000  \n",
       "6.0      0.000000  \n",
       "7.0      0.000000  \n",
       "8.0      0.000000  \n",
       "9.0      0.000000  \n",
       "10.0     0.000000  \n",
       "11.0     0.000000  \n",
       "12.0     0.000000  \n",
       "13.0     0.000000  \n",
       "14.0     0.000000  \n",
       "15.0     0.686179  "
      ]
     },
     "execution_count": 17,
     "metadata": {},
     "output_type": "execute_result"
    }
   ],
   "source": [
    "log_history = pd.DataFrame(trainer.state.log_history)\n",
    "log_history = log_history.fillna(0)\n",
    "log_history = log_history.groupby(['epoch']).sum()\n",
    "log_history"
   ]
  },
  {
   "cell_type": "markdown",
   "metadata": {},
   "source": [
    "Loss Curve\n",
    "************"
   ]
  },
  {
   "cell_type": "code",
   "execution_count": 18,
   "metadata": {},
   "outputs": [
    {
     "data": {
      "image/png": "[encoded data removed]",
      "text/plain": [
       "<Figure size 640x480 with 1 Axes>"
      ]
     },
     "metadata": {},
     "output_type": "display_data"
    }
   ],
   "source": [
    "fig = plt.figure()\n",
    "plt.plot(log_history['loss'], color='teal', label='loss')\n",
    "plt.plot(log_history['eval_loss'], color='orange', label='val_loss')\n",
    "fig.suptitle('Loss', fontsize=20)\n",
    "plt.legend(loc=\"upper left\")\n",
    "plt.show()"
   ]
  },
  {
   "cell_type": "markdown",
   "metadata": {},
   "source": [
    "Accuracy Curve\n",
    "************"
   ]
  },
  {
   "cell_type": "code",
   "execution_count": 22,
   "metadata": {},
   "outputs": [
    {
     "data": {
      "image/png": "[encoded data removed]",
      "text/plain": [
       "<Figure size 640x480 with 1 Axes>"
      ]
     },
     "metadata": {},
     "output_type": "display_data"
    }
   ],
   "source": [
    "fig = plt.figure()\n",
    "plt.plot(log_history['eval_accuracy'], color='teal', label='val_accuracy')\n",
    "fig.suptitle('Accuracy', fontsize=20)\n",
    "plt.legend(loc=\"upper left\")\n",
    "plt.show()"
   ]
  },
  {
   "cell_type": "markdown",
   "metadata": {},
   "source": [
    "Model Evaluation From Validation Data\n",
    "************"
   ]
  },
  {
   "cell_type": "code",
   "execution_count": 23,
   "metadata": {},
   "outputs": [
    {
     "name": "stderr",
     "output_type": "stream",
     "text": [
      "c:\\Users\\Acer\\AppData\\Local\\Programs\\Python\\Python39\\lib\\site-packages\\datasets\\features\\features.py:648: FutureWarning: pyarrow.PyExtensionType is deprecated and will refuse deserialization by default. Instead, please derive from pyarrow.ExtensionType and implement your own serialization mechanism.\n",
      "  pa.PyExtensionType.__init__(self, self.storage_dtype)\n",
      "***** Running Evaluation *****\n",
      "  Num examples = 201\n",
      "  Batch size = 16\n",
      "100%|██████████| 13/13 [00:06<00:00,  2.11it/s]"
     ]
    },
    {
     "name": "stdout",
     "output_type": "stream",
     "text": [
      "***** test metrics *****\n",
      "  epoch                   =       15.0\n",
      "  eval_accuracy           =     0.7413\n",
      "  eval_loss               =     0.8555\n",
      "  eval_runtime            = 0:00:06.89\n",
      "  eval_samples_per_second =     29.131\n",
      "  eval_steps_per_second   =      1.884\n"
     ]
    },
    {
     "name": "stderr",
     "output_type": "stream",
     "text": [
      "\n"
     ]
    }
   ],
   "source": [
    "metrics = trainer.evaluate(test_dataset)\n",
    "trainer.log_metrics(\"test\",metrics)\n",
    "trainer.save_metrics(\"test\",metrics)"
   ]
  },
  {
   "cell_type": "markdown",
   "metadata": {},
   "source": [
    "Test Model\n",
    "************"
   ]
  },
  {
   "cell_type": "code",
   "execution_count": 24,
   "metadata": {},
   "outputs": [
    {
     "name": "stderr",
     "output_type": "stream",
     "text": [
      "c:\\Users\\Acer\\AppData\\Local\\Programs\\Python\\Python39\\lib\\site-packages\\datasets\\features\\features.py:648: FutureWarning: pyarrow.PyExtensionType is deprecated and will refuse deserialization by default. Instead, please derive from pyarrow.ExtensionType and implement your own serialization mechanism.\n",
      "  pa.PyExtensionType.__init__(self, self.storage_dtype)\n",
      "***** Running Prediction *****\n",
      "  Num examples = 201\n",
      "  Batch size = 16\n",
      "100%|██████████| 13/13 [00:05<00:00,  2.31it/s]\n"
     ]
    }
   ],
   "source": [
    "y_test = trainer.predict(test_dataset)\n",
    "y_test_acual = y_test.label_ids\n",
    "y_test_pred = np.argmax(y_test.predictions, axis=1)\n",
    "Y_pred_Df = pd.DataFrame(y_test_pred)\n",
    "Y_test_Df = pd.DataFrame(y_test_acual)"
   ]
  },
  {
   "cell_type": "markdown",
   "metadata": {},
   "source": [
    "Confusion Metrix\n",
    "************"
   ]
  },
  {
   "cell_type": "code",
   "execution_count": 25,
   "metadata": {},
   "outputs": [
    {
     "data": {
      "text/plain": [
       "Text(0.5, 1.0, 'Confusion Matrix')"
      ]
     },
     "execution_count": 25,
     "metadata": {},
     "output_type": "execute_result"
    },
    {
     "data": {
      "image/png": "[encoded data removed]",
      "text/plain": [
       "<Figure size 640x480 with 2 Axes>"
      ]
     },
     "metadata": {},
     "output_type": "display_data"
    }
   ],
   "source": [
    "# Generate Confusion Metrix\n",
    "cm = confusion_matrix(Y_pred_Df,Y_test_Df)\n",
    "ax= plt.subplot()\n",
    "sns.heatmap(cm, cmap='PuRd', annot=True, fmt='g', ax=ax);  #annot=True to annotate cells, ftm='g' to disable scientific notation\n",
    "\n",
    "# Set label,title name\n",
    "ax.set_xlabel('Predicted labels')\n",
    "ax.set_ylabel('True labels')\n",
    "ax.set_title('Confusion Matrix')"
   ]
  },
  {
   "cell_type": "markdown",
   "metadata": {},
   "source": [
    "Classification Report\n",
    "************"
   ]
  },
  {
   "cell_type": "code",
   "execution_count": 27,
   "metadata": {},
   "outputs": [
    {
     "name": "stdout",
     "output_type": "stream",
     "text": [
      "              precision    recall  f1-score   support\n",
      "\n",
      "      Basalt       0.00      0.00      0.00         8\n",
      "        Coal       0.78      1.00      0.88        36\n",
      "     Granite       1.00      0.17      0.29        12\n",
      "   Limestone       0.58      0.88      0.70        24\n",
      "      Marble       0.71      0.51      0.59        43\n",
      "   Quartzite       0.73      0.79      0.76        48\n",
      "   Sandstone       0.88      1.00      0.94        30\n",
      "\n",
      "    accuracy                           0.74       201\n",
      "   macro avg       0.67      0.62      0.59       201\n",
      "weighted avg       0.73      0.74      0.71       201\n",
      "\n"
     ]
    },
    {
     "name": "stderr",
     "output_type": "stream",
     "text": [
      "c:\\Users\\Acer\\AppData\\Local\\Programs\\Python\\Python39\\lib\\site-packages\\sklearn\\metrics\\_classification.py:1471: UndefinedMetricWarning: Precision and F-score are ill-defined and being set to 0.0 in labels with no predicted samples. Use `zero_division` parameter to control this behavior.\n",
      "  _warn_prf(average, modifier, msg_start, len(result))\n",
      "c:\\Users\\Acer\\AppData\\Local\\Programs\\Python\\Python39\\lib\\site-packages\\sklearn\\metrics\\_classification.py:1471: UndefinedMetricWarning: Precision and F-score are ill-defined and being set to 0.0 in labels with no predicted samples. Use `zero_division` parameter to control this behavior.\n",
      "  _warn_prf(average, modifier, msg_start, len(result))\n",
      "c:\\Users\\Acer\\AppData\\Local\\Programs\\Python\\Python39\\lib\\site-packages\\sklearn\\metrics\\_classification.py:1471: UndefinedMetricWarning: Precision and F-score are ill-defined and being set to 0.0 in labels with no predicted samples. Use `zero_division` parameter to control this behavior.\n",
      "  _warn_prf(average, modifier, msg_start, len(result))\n"
     ]
    }
   ],
   "source": [
    "print(classification_report(Y_test_Df,Y_pred_Df, target_names=(train_dataset.features[\"label\"].names)))"
   ]
  }
 ],
 "metadata": {
  "kernelspec": {
   "display_name": "Python 3",
   "language": "python",
   "name": "python3"
  },
  "language_info": {
   "codemirror_mode": {
    "name": "ipython",
    "version": 3
   },
   "file_extension": ".py",
   "mimetype": "text/x-python",
   "name": "python",
   "nbconvert_exporter": "python",
   "pygments_lexer": "ipython3",
   "version": "3.9.9"
  }
 },
 "nbformat": 4,
 "nbformat_minor": 2
}
