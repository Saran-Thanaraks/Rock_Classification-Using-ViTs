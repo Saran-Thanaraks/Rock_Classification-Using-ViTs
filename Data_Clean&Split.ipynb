{
 "cells": [
  {
   "cell_type": "markdown",
   "metadata": {},
   "source": [
    "Import Library\n",
    "************"
   ]
  },
  {
   "cell_type": "code",
   "execution_count": 4,
   "metadata": {},
   "outputs": [],
   "source": [
    "import cv2\n",
    "import imghdr\n",
    "import os\n",
    "from keras.preprocessing.image import ImageDataGenerator\n",
    "import Augmentor\n",
    "import random\n",
    "import os\n",
    "import shutil\n",
    "from matplotlib import pyplot as plt\n",
    "from datasets import load_dataset\n",
    "import pandas as pd"
   ]
  },
  {
   "cell_type": "markdown",
   "metadata": {},
   "source": [
    "Define Path & All Classes Name\n",
    "************"
   ]
  },
  {
   "cell_type": "code",
   "execution_count": 5,
   "metadata": {},
   "outputs": [],
   "source": [
    "data_dir = 'Rocks_Dataset'\n",
    "balance_dataset_path = \"Output_Data/Balanced_Rocks_Dataset\"\n",
    "splited_dataset_path = \"Output_Data/Splited_Rocks_Dataset\"\n",
    "\n",
    "# Set your original data directory\n",
    "train_dir = './Output_Data/Splited_Rocks_Dataset/train'\n",
    "test_dir = './Output_Data/Splited_Rocks_Dataset/test'\n",
    "val_dir = './Output_Data/Splited_Rocks_Dataset/validation'\n",
    "\n",
    "\n",
    "classes = ['Basalt', 'Coal', 'Granite', 'Limestone', 'Marble', 'Quartzite', 'Sandstone']  # Add your class names\n"
   ]
  },
  {
   "cell_type": "markdown",
   "metadata": {},
   "source": [
    "Delete Incorrect Format Files \n",
    "************"
   ]
  },
  {
   "cell_type": "code",
   "execution_count": 6,
   "metadata": {},
   "outputs": [],
   "source": [
    "image_exts = ['jpeg','jpg', 'bmp', 'png']\n",
    "\n",
    "for image_class in os.listdir(data_dir): \n",
    "    for image in os.listdir(os.path.join(data_dir, image_class)):\n",
    "        image_path = os.path.join(data_dir, image_class, image)\n",
    "        try: \n",
    "            img = cv2.imread(image_path)\n",
    "            tip = imghdr.what(image_path)\n",
    "            if tip not in image_exts: \n",
    "                print('Image not in ext list {}'.format(image_path))\n",
    "                os.remove(image_path)\n",
    "        except Exception as e: \n",
    "            print('Issue with image {}'.format(image_path)) "
   ]
  },
  {
   "cell_type": "markdown",
   "metadata": {},
   "source": [
    "Import Image Dataset Function\n",
    "************"
   ]
  },
  {
   "cell_type": "code",
   "execution_count": 7,
   "metadata": {},
   "outputs": [],
   "source": [
    "def import_dataset(path):\n",
    "    # Set up ImageDataGenerator\n",
    "    datagen = ImageDataGenerator(rescale=1./255)\n",
    "\n",
    "    batch_size = 32\n",
    "    image_size = (224, 224)  # Adjust image size as needed\n",
    "\n",
    "    dataset = datagen.flow_from_directory(\n",
    "        path,\n",
    "        target_size=image_size,\n",
    "        batch_size=batch_size,\n",
    "        class_mode='categorical',\n",
    "        classes=classes,\n",
    "        shuffle=True,\n",
    "        seed=42\n",
    "    )\n",
    "\n",
    "    return dataset"
   ]
  },
  {
   "cell_type": "markdown",
   "metadata": {},
   "source": [
    "Count numbers of each class Then return as dictionary object\n",
    "************"
   ]
  },
  {
   "cell_type": "code",
   "execution_count": 8,
   "metadata": {},
   "outputs": [],
   "source": [
    "def class_counter(dataset):\n",
    "    class_indices = dataset.class_indices\n",
    "    class_counts = dataset.classes\n",
    "\n",
    "    # Convert class indices to class names\n",
    "    class_names = {v: k for k, v in class_indices.items()}\n",
    "\n",
    "    # Count the occurrences of each class\n",
    "    class_counts_dict = {}\n",
    "    for count in class_counts:\n",
    "        class_name = class_names[count]\n",
    "        class_counts_dict[class_name] = class_counts_dict.get(class_name, 0) + 1\n",
    "\n",
    "    return class_counts_dict"
   ]
  },
  {
   "cell_type": "markdown",
   "metadata": {},
   "source": [
    "Bar Graph Display Function For Showing Balance of Data \n",
    "************"
   ]
  },
  {
   "cell_type": "code",
   "execution_count": 9,
   "metadata": {},
   "outputs": [],
   "source": [
    "def display_class_balancing(dataset):\n",
    "    \n",
    "    class_counts_dict = class_counter(dataset)\n",
    "    # Plot the bar chart\n",
    "    plt.bar(class_counts_dict.keys(), class_counts_dict.values())\n",
    "    plt.xlabel('Classes')\n",
    "    plt.ylabel('Number of Images')\n",
    "    plt.title('Number of Images in Each Class')\n",
    "    plt.show()\n",
    "    print(class_counts_dict.values())"
   ]
  },
  {
   "cell_type": "markdown",
   "metadata": {},
   "source": [
    "Display Number of Each Class\n",
    "************"
   ]
  },
  {
   "cell_type": "code",
   "execution_count": 10,
   "metadata": {},
   "outputs": [
    {
     "name": "stdout",
     "output_type": "stream",
     "text": [
      "Found 2025 images belonging to 7 classes.\n"
     ]
    },
    {
     "data": {
      "image/png": "[encoded data removed]",
      "text/plain": [
       "<Figure size 640x480 with 1 Axes>"
      ]
     },
     "metadata": {},
     "output_type": "display_data"
    },
    {
     "name": "stdout",
     "output_type": "stream",
     "text": [
      "dict_values([77, 363, 78, 327, 383, 475, 322])\n"
     ]
    }
   ],
   "source": [
    "original_dataset = import_dataset(data_dir)\n",
    "display_class_balancing(original_dataset)"
   ]
  },
  {
   "cell_type": "markdown",
   "metadata": {},
   "source": [
    "Upsampling Image Function\n",
    "************"
   ]
  },
  {
   "cell_type": "code",
   "execution_count": 11,
   "metadata": {},
   "outputs": [],
   "source": [
    "def up_sampling(img_dir, amount):\n",
    "\n",
    "    # Passing the path of the image directory\n",
    "    p = Augmentor.Pipeline(img_dir ,output_directory='./')\n",
    " \n",
    "    # Defining augmentation parameters and generating 5 samples\n",
    "    p.flip_left_right(0.5)\n",
    "    p.black_and_white(0.1)\n",
    "    p.rotate(0.3, 10, 10)\n",
    "    p.skew(0.4, 0.5)\n",
    "    p.zoom(probability = 0.2, min_factor = 1.1, max_factor = 1.5)\n",
    "    p.sample(amount)"
   ]
  },
  {
   "cell_type": "markdown",
   "metadata": {},
   "source": [
    "Downsampling Image Function \n",
    "************"
   ]
  },
  {
   "cell_type": "code",
   "execution_count": 12,
   "metadata": {},
   "outputs": [],
   "source": [
    "def down_sampling(img_dir, amount):\n",
    "\n",
    "    img_list = os.listdir(img_dir)\n",
    "    \n",
    "    if amount > len(img_list):\n",
    "        print(\"Delete count is greater than the number of image files available.\")\n",
    "        return\n",
    "    \n",
    "    # Randomly select 'delete_count' files to delete\n",
    "    files_to_delete = random.sample(img_list, amount)\n",
    "    \n",
    "    print(f\"Down Sampling Form {img_dir}\")\n",
    "    # Delete the selected files\n",
    "    for file in files_to_delete:\n",
    "        file_path = os.path.join(img_dir, file)\n",
    "        os.remove(file_path)"
   ]
  },
  {
   "cell_type": "markdown",
   "metadata": {},
   "source": [
    "Perform Up/Down Sampling to Balance Dataset\n",
    "************"
   ]
  },
  {
   "cell_type": "code",
   "execution_count": 13,
   "metadata": {},
   "outputs": [
    {
     "name": "stdout",
     "output_type": "stream",
     "text": [
      "Initialised with 77 image(s) found.\n",
      "Output directory set to Output_Data/Balanced_Rocks_Dataset\\Basalt\\./."
     ]
    },
    {
     "name": "stderr",
     "output_type": "stream",
     "text": [
      "Processing <PIL.Image.Image image mode=RGB size=780x520 at 0x1D871334EB0>: 100%|██████████| 303/303 [00:02<00:00, 123.92 Samples/s]                    \n"
     ]
    },
    {
     "name": "stdout",
     "output_type": "stream",
     "text": [
      "Initialised with 363 image(s) found.\n",
      "Output directory set to Output_Data/Balanced_Rocks_Dataset\\Coal\\./."
     ]
    },
    {
     "name": "stderr",
     "output_type": "stream",
     "text": [
      "Processing <PIL.Image.Image image mode=RGB size=1024x536 at 0x1D871358A90>: 100%|██████████| 17/17 [00:00<00:00, 291.48 Samples/s]                \n"
     ]
    },
    {
     "name": "stdout",
     "output_type": "stream",
     "text": [
      "Initialised with 78 image(s) found.\n",
      "Output directory set to Output_Data/Balanced_Rocks_Dataset\\Granite\\./."
     ]
    },
    {
     "name": "stderr",
     "output_type": "stream",
     "text": [
      "Processing <PIL.Image.Image image mode=RGB size=466x580 at 0x1D871346310>: 100%|██████████| 302/302 [00:04<00:00, 66.60 Samples/s]                     \n"
     ]
    },
    {
     "name": "stdout",
     "output_type": "stream",
     "text": [
      "Initialised with 327 image(s) found.\n",
      "Output directory set to Output_Data/Balanced_Rocks_Dataset\\Limestone\\./."
     ]
    },
    {
     "name": "stderr",
     "output_type": "stream",
     "text": [
      "Processing <PIL.Image.Image image mode=RGB size=612x408 at 0x1D871347DC0>: 100%|██████████| 53/53 [00:00<00:00, 100.09 Samples/s]                   \n"
     ]
    },
    {
     "name": "stdout",
     "output_type": "stream",
     "text": [
      "Down Sampling Form Output_Data/Balanced_Rocks_Dataset\\Marble\n",
      "Down Sampling Form Output_Data/Balanced_Rocks_Dataset\\Quartzite\n",
      "Initialised with 322 image(s) found.\n",
      "Output directory set to Output_Data/Balanced_Rocks_Dataset\\Sandstone\\./."
     ]
    },
    {
     "name": "stderr",
     "output_type": "stream",
     "text": [
      "Processing <PIL.Image.Image image mode=RGB size=612x408 at 0x1D8713585E0>: 100%|██████████| 58/58 [00:01<00:00, 39.42 Samples/s]                    \n"
     ]
    }
   ],
   "source": [
    "        \n",
    "if not os.path.exists(balance_dataset_path):\n",
    "    shutil.copytree(data_dir ,balance_dataset_path)\n",
    "\n",
    "    up_sampling(os.path.join(balance_dataset_path, \"Basalt\"),303)\n",
    "    up_sampling(os.path.join(balance_dataset_path,\"Coal\"),17)\n",
    "    up_sampling(os.path.join(balance_dataset_path,\"Granite\"),302)\n",
    "    up_sampling(os.path.join(balance_dataset_path,\"Limestone\"),53)\n",
    "    down_sampling(os.path.join(balance_dataset_path,\"Marble\"),3)\n",
    "    down_sampling(os.path.join(balance_dataset_path,\"Quartzite\"),95)\n",
    "    up_sampling(os.path.join(balance_dataset_path,\"Sandstone\"),58)"
   ]
  },
  {
   "cell_type": "markdown",
   "metadata": {},
   "source": [
    "Display Number of Each Class After Balancing\n",
    "************"
   ]
  },
  {
   "cell_type": "code",
   "execution_count": 14,
   "metadata": {},
   "outputs": [
    {
     "name": "stdout",
     "output_type": "stream",
     "text": [
      "Found 2660 images belonging to 7 classes.\n"
     ]
    },
    {
     "data": {
      "image/png": "[encoded data removed]",
      "text/plain": [
       "<Figure size 640x480 with 1 Axes>"
      ]
     },
     "metadata": {},
     "output_type": "display_data"
    },
    {
     "name": "stdout",
     "output_type": "stream",
     "text": [
      "dict_values([380, 380, 380, 380, 380, 380, 380])\n"
     ]
    }
   ],
   "source": [
    "balance_dataset = import_dataset(balance_dataset_path)\n",
    "display_class_balancing(balance_dataset)"
   ]
  },
  {
   "cell_type": "markdown",
   "metadata": {},
   "source": [
    "Split Dataset to Test,Trian,Validation Function\n",
    "************"
   ]
  },
  {
   "cell_type": "code",
   "execution_count": 15,
   "metadata": {},
   "outputs": [],
   "source": [
    "def split_dataset(input_dir, output_dir, train_ratio=0.7, validation_ratio=0.2, seed=None):\n",
    "    if seed is not None:\n",
    "        random.seed(seed)\n",
    "\n",
    "    # Create output directories for training, validation, and testing\n",
    "    train_dir = os.path.join(output_dir, 'train')\n",
    "    validation_dir = os.path.join(output_dir, 'validation')\n",
    "    test_dir = os.path.join(output_dir, 'test')\n",
    "\n",
    "    os.makedirs(train_dir, exist_ok=True)\n",
    "    os.makedirs(validation_dir, exist_ok=True)\n",
    "    os.makedirs(test_dir, exist_ok=True)\n",
    "\n",
    "    # Iterate over class directories\n",
    "    for class_name in os.listdir(input_dir):\n",
    "        class_dir = os.path.join(input_dir, class_name)\n",
    "\n",
    "        if os.path.isdir(class_dir):\n",
    "            # List all image files in the class directory\n",
    "            images = [img for img in os.listdir(class_dir)]\n",
    "   \n",
    "            # Shuffle the list of images\n",
    "            random.shuffle(images)\n",
    "\n",
    "            # Calculate the number of images for training, validation, and testing\n",
    "            train_index = int(len(images) * train_ratio)\n",
    "            validation_index = int(len(images) * (train_ratio + validation_ratio))\n",
    "\n",
    "            # Split the images into training, validation, and testing sets\n",
    "            train_images = images[:train_index]\n",
    "            validation_images = images[train_index:validation_index]\n",
    "            test_images = images[validation_index:]\n",
    "\n",
    "            # Copy images to the appropriate directories\n",
    "            for img in train_images:\n",
    "                src_path = os.path.join(class_dir, img)\n",
    "                dest_path = os.path.join(train_dir, class_name, img)\n",
    "                os.makedirs(os.path.dirname(dest_path), exist_ok=True)\n",
    "                shutil.copy(src_path, dest_path)\n",
    "\n",
    "            for img in validation_images:\n",
    "                src_path = os.path.join(class_dir, img)\n",
    "                dest_path = os.path.join(validation_dir, class_name, img)\n",
    "                os.makedirs(os.path.dirname(dest_path), exist_ok=True)\n",
    "                shutil.copy(src_path, dest_path)\n",
    "\n",
    "            for img in test_images:\n",
    "                src_path = os.path.join(class_dir, img)\n",
    "                dest_path = os.path.join(test_dir, class_name, img)\n",
    "                os.makedirs(os.path.dirname(dest_path), exist_ok=True)\n",
    "                shutil.copy(src_path, dest_path)"
   ]
  },
  {
   "cell_type": "markdown",
   "metadata": {},
   "source": [
    "Perform Dataset Test/Train/Val Spliting\n",
    "************"
   ]
  },
  {
   "cell_type": "code",
   "execution_count": 16,
   "metadata": {},
   "outputs": [],
   "source": [
    "#input,output path define\n",
    "input_directory = balance_dataset_path\n",
    "output_directory = splited_dataset_path\n",
    "\n",
    "#call split_dataset function\n",
    "split_dataset(input_directory, output_directory, train_ratio=0.7, validation_ratio=0.2, seed=42)"
   ]
  },
  {
   "cell_type": "markdown",
   "metadata": {},
   "source": [
    "Import Splited Dataset\n",
    "************"
   ]
  },
  {
   "cell_type": "code",
   "execution_count": 21,
   "metadata": {},
   "outputs": [
    {
     "name": "stdout",
     "output_type": "stream",
     "text": [
      "Found 1863 images belonging to 7 classes.\n",
      "Found 272 images belonging to 7 classes.\n",
      "Found 525 images belonging to 7 classes.\n"
     ]
    }
   ],
   "source": [
    "train_data = import_dataset(train_dir)\n",
    "test_data = import_dataset(test_dir)\n",
    "val_data = import_dataset(val_dir)"
   ]
  },
  {
   "cell_type": "markdown",
   "metadata": {},
   "source": [
    "Display Number of Each Class With Partitioning\n",
    "******"
   ]
  },
  {
   "cell_type": "code",
   "execution_count": 23,
   "metadata": {},
   "outputs": [
    {
     "data": {
      "text/plain": [
       "Text(0, 0.5, 'count')"
      ]
     },
     "execution_count": 23,
     "metadata": {},
     "output_type": "execute_result"
    },
    {
     "data": {
      "image/png": "[encoded data removed]",
      "text/plain": [
       "<Figure size 640x480 with 1 Axes>"
      ]
     },
     "metadata": {},
     "output_type": "display_data"
    }
   ],
   "source": [
    "data = pd.DataFrame({\n",
    "    \"train\": class_counter(train_data).values(),\n",
    "    \"val\": class_counter(val_data).values(),\n",
    "    \"test\": class_counter(test_data).values()\n",
    "    },\n",
    "    index = classes\n",
    ")\n",
    "\n",
    "data.plot(kind=\"bar\")\n",
    "plt.title(\"Numbers of Image in Dataset\")\n",
    "plt.xlabel(\"Rock Classes\")\n",
    "plt.ylabel(\"count\")"
   ]
  }
 ],
 "metadata": {
  "kernelspec": {
   "display_name": "Python 3",
   "language": "python",
   "name": "python3"
  },
  "language_info": {
   "codemirror_mode": {
    "name": "ipython",
    "version": 3
   },
   "file_extension": ".py",
   "mimetype": "text/x-python",
   "name": "python",
   "nbconvert_exporter": "python",
   "pygments_lexer": "ipython3",
   "version": "3.9.9"
  }
 },
 "nbformat": 4,
 "nbformat_minor": 2
}
