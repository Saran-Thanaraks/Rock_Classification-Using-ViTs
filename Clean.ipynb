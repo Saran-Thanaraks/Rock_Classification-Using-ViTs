{
 "cells": [
  {
   "cell_type": "code",
   "execution_count": 1,
   "metadata": {},
   "outputs": [
    {
     "name": "stdout",
     "output_type": "stream",
     "text": [
      "Image not in ext list Rocks\\Basalt\\15.jpg\n",
      "Image not in ext list Rocks\\Basalt\\21.jpg\n",
      "Image not in ext list Rocks\\Basalt\\27.jpg\n",
      "Image not in ext list Rocks\\Basalt\\3.jpg\n",
      "Image not in ext list Rocks\\Basalt\\43.jpg\n",
      "Image not in ext list Rocks\\Basalt\\49.jpg\n",
      "Image not in ext list Rocks\\Basalt\\Basalt-Lava-Rock-Vivarium-Guide-768x568.jpg\n",
      "Image not in ext list Rocks\\Basalt\\can-stock-photo_csp10523025.jpg\n",
      "Image not in ext list Rocks\\Basalt\\rosen-kazlachev-full.jpg\n",
      "Image not in ext list Rocks\\Coal\\291.jpg\n",
      "Image not in ext list Rocks\\Coal\\305.jpg\n",
      "Image not in ext list Rocks\\Coal\\356.jpg\n",
      "Image not in ext list Rocks\\Coal\\5.jpg\n",
      "Image not in ext list Rocks\\Coal\\50.jpg\n",
      "Image not in ext list Rocks\\Coal\\7.jpg\n",
      "Image not in ext list Rocks\\Granite\\26.png\n",
      "Image not in ext list Rocks\\Granite\\27.jpeg\n",
      "Image not in ext list Rocks\\Granite\\34.JPEG\n",
      "Image not in ext list Rocks\\Granite\\36.JPEG\n",
      "Image not in ext list Rocks\\Granite\\40.JPEG\n",
      "Image not in ext list Rocks\\Granite\\61.jpg\n",
      "Image not in ext list Rocks\\Granite\\64.JPEG\n",
      "Image not in ext list Rocks\\Granite\\68.jpg\n",
      "Image not in ext list Rocks\\Granite\\73.JPEG\n",
      "Image not in ext list Rocks\\Granite\\74.JPEG\n",
      "Image not in ext list Rocks\\Granite\\75.JPEG\n",
      "Image not in ext list Rocks\\Granite\\76.JPEG\n",
      "Image not in ext list Rocks\\Granite\\77.JPEG\n",
      "Image not in ext list Rocks\\Granite\\78.JPEG\n",
      "Image not in ext list Rocks\\Granite\\79.JPEG\n",
      "Image not in ext list Rocks\\Granite\\80.JPEG\n",
      "Image not in ext list Rocks\\Granite\\81.JPEG\n",
      "Image not in ext list Rocks\\Granite\\82.JPEG\n",
      "Image not in ext list Rocks\\Granite\\83.JPEG\n",
      "Image not in ext list Rocks\\Granite\\84.JPEG\n",
      "Image not in ext list Rocks\\Granite\\85.JPEG\n",
      "Image not in ext list Rocks\\Granite\\86.JPEG\n",
      "Image not in ext list Rocks\\Granite\\94.jpg\n",
      "Image not in ext list Rocks\\Limestone\\101.webp\n",
      "Image not in ext list Rocks\\Limestone\\225.jpg\n",
      "Image not in ext list Rocks\\Limestone\\229.jpg\n",
      "Image not in ext list Rocks\\Limestone\\280.jpeg\n",
      "Image not in ext list Rocks\\Limestone\\3.webp\n",
      "Image not in ext list Rocks\\Limestone\\7.jpeg\n",
      "Image not in ext list Rocks\\Marble\\mineral-stone-marble-nonfoliated-metamorphic-260nw-349915676.webp\n",
      "Image not in ext list Rocks\\Marble\\u3tqorgn31mp65iypkwy_7e2e86ad-6a3f-410e-9584-caa5b075ccd7_825x700.webp\n",
      "Image not in ext list Rocks\\Quartzite\\Quartzite (1).jpg\n",
      "Image not in ext list Rocks\\Quartzite\\quartzite-crystal-mineral-sample-studio-shot-with-black-background-972333846-5c7e6525c9e77c0001d19dda.webp\n",
      "Image not in ext list Rocks\\Sandstone\\15.webp\n",
      "Image not in ext list Rocks\\Sandstone\\319.jpg\n",
      "Image not in ext list Rocks\\Sandstone\\320.webp\n"
     ]
    }
   ],
   "source": [
    "data_dir = 'Rocks' \n",
    "\n",
    "import cv2\n",
    "import imghdr\n",
    "import os\n",
    "\n",
    "image_exts = ['jpeg','jpg', 'bmp', 'png']\n",
    "\n",
    "for image_class in os.listdir(data_dir): \n",
    "    for image in os.listdir(os.path.join(data_dir, image_class)):\n",
    "        image_path = os.path.join(data_dir, image_class, image)\n",
    "        try: \n",
    "            img = cv2.imread(image_path)\n",
    "            tip = imghdr.what(image_path)\n",
    "            if tip not in image_exts: \n",
    "                print('Image not in ext list {}'.format(image_path))\n",
    "                os.remove(image_path)\n",
    "        except Exception as e: \n",
    "            print('Issue with image {}'.format(image_path))\n",
    "            # os.remove(image_path)"
   ]
  }
 ],
 "metadata": {
  "kernelspec": {
   "display_name": "Python 3",
   "language": "python",
   "name": "python3"
  },
  "language_info": {
   "codemirror_mode": {
    "name": "ipython",
    "version": 3
   },
   "file_extension": ".py",
   "mimetype": "text/x-python",
   "name": "python",
   "nbconvert_exporter": "python",
   "pygments_lexer": "ipython3",
   "version": "3.9.9"
  }
 },
 "nbformat": 4,
 "nbformat_minor": 2
}
