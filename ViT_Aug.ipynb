{
 "cells": [
  {
   "cell_type": "markdown",
   "metadata": {},
   "source": [
    "Import\n",
    "************"
   ]
  },
  {
   "cell_type": "code",
   "execution_count": 1,
   "metadata": {},
   "outputs": [
    {
     "name": "stderr",
     "output_type": "stream",
     "text": [
      "c:\\Users\\Acer\\AppData\\Local\\Programs\\Python\\Python39\\lib\\site-packages\\tqdm\\auto.py:21: TqdmWarning: IProgress not found. Please update jupyter and ipywidgets. See https://ipywidgets.readthedocs.io/en/stable/user_install.html\n",
      "  from .autonotebook import tqdm as notebook_tqdm\n"
     ]
    }
   ],
   "source": [
    "from datasets import load_dataset, load_from_disk, Dataset, Features, Array3D\n",
    "from transformers import AutoProcessor, ViTFeatureExtractor, ViTForImageClassification, Trainer, TrainingArguments, default_data_collator\n",
    "import pyarrow as pa\n",
    "import evaluate\n",
    "import numpy as np\n",
    "from typing import Tuple\n",
    "import torch\n",
    "import pandas as pd\n",
    "from matplotlib import pyplot as plt\n",
    "import seaborn as sns \n",
    "from sklearn.metrics import confusion_matrix \n",
    "from sklearn.metrics import classification_report"
   ]
  },
  {
   "cell_type": "markdown",
   "metadata": {},
   "source": [
    "Define Path\n",
    "************"
   ]
  },
  {
   "cell_type": "code",
   "execution_count": 2,
   "metadata": {},
   "outputs": [],
   "source": [
    "# The directory where our images are saved in folders by category\n",
    "images_dir = \"Aug_Rocks\"\n",
    "\n",
    "# The output directory of the processed datasets\n",
    "train_save_path = \"./processed-datasets/Augmented/train\"\n",
    "val_save_path = \"./processed-datasets/Augmented/val\"\n",
    "test_save_path = \"./processed-datasets/Augmented/test\"\n",
    "\n",
    "\n",
    "# Name of model as named in the HuggingFace Hub\n",
    "model_name = \"google/vit-base-patch16-224-in21k\"\n"
   ]
  },
  {
   "cell_type": "markdown",
   "metadata": {},
   "source": [
    "Load Dataset & Convert to RGB\n",
    "************"
   ]
  },
  {
   "cell_type": "code",
   "execution_count": 3,
   "metadata": {},
   "outputs": [
    {
     "name": "stderr",
     "output_type": "stream",
     "text": [
      "Resolving data files: 100%|██████████| 2432/2432 [00:00<00:00, 43753.07it/s]\n"
     ]
    }
   ],
   "source": [
    "dataset = load_dataset(\"imagefolder\", data_dir=images_dir, split='train')\n",
    "\n",
    "condition = lambda data: data['image'].mode == 'RGB'\n",
    "dataset = dataset.filter(condition)"
   ]
  },
  {
   "cell_type": "markdown",
   "metadata": {},
   "source": [
    "Split Dataset to (Test/Train/Validate)\n",
    "************"
   ]
  },
  {
   "cell_type": "code",
   "execution_count": 4,
   "metadata": {},
   "outputs": [
    {
     "name": "stdout",
     "output_type": "stream",
     "text": [
      "Splitting dataset into train, validation and test sets...\n"
     ]
    }
   ],
   "source": [
    "def split_dataset(\n",
    "    dataset: Dataset,\n",
    "    val_size: float=0.2,\n",
    "    test_size: float=0.1\n",
    ") -> Tuple[Dataset, Dataset, Dataset]:\n",
    "    \"\"\"\n",
    "    Returns a tuple with three random train, validation and test subsets by splitting the passed dataset.\n",
    "    Size of the validation and test sets defined as a fraction of 1 with the `val_size` and `test_size` arguments.\n",
    "    \"\"\"\n",
    "\n",
    "    print(\"Splitting dataset into train, validation and test sets...\")\n",
    "\n",
    "    # Split dataset into train and (val + test) sets\n",
    "    split_size = round(val_size + test_size, 3)\n",
    "    dataset = dataset.train_test_split(shuffle=True, test_size=split_size)\n",
    "\n",
    "    # Split (val + test) into val and test sets\n",
    "    split_ratio = round(test_size / (test_size + val_size), 3)\n",
    "    val_test_sets = dataset['test'].train_test_split(shuffle=True, test_size=split_ratio)\n",
    "\n",
    "    train_dataset = dataset[\"train\"]\n",
    "    val_dataset = val_test_sets[\"train\"]\n",
    "    test_dataset = val_test_sets[\"test\"]\n",
    "    return train_dataset, val_dataset, test_dataset\n",
    "\n",
    "# Sizes of dataset splits\n",
    "val_size = 0.2\n",
    "test_size = 0.1\n",
    "\n",
    "# Split dataset into train and test sets\n",
    "train_dataset, val_dataset, test_dataset = split_dataset(dataset, val_size, test_size)"
   ]
  },
  {
   "cell_type": "markdown",
   "metadata": {},
   "source": [
    "Transform Image\n",
    "************"
   ]
  },
  {
   "cell_type": "code",
   "execution_count": 5,
   "metadata": {},
   "outputs": [
    {
     "name": "stderr",
     "output_type": "stream",
     "text": [
      "Map:   0%|          | 0/1623 [00:00<?, ? examples/s]c:\\Users\\Acer\\AppData\\Local\\Programs\\Python\\Python39\\lib\\site-packages\\datasets\\features\\features.py:648: FutureWarning: pyarrow.PyExtensionType is deprecated and will refuse deserialization by default. Instead, please derive from pyarrow.ExtensionType and implement your own serialization mechanism.\n",
      "  pa.PyExtensionType.__init__(self, self.storage_dtype)\n",
      "Map: 100%|██████████| 1623/1623 [01:03<00:00, 25.56 examples/s]\n",
      "Map: 100%|██████████| 464/464 [00:18<00:00, 25.04 examples/s]\n",
      "Map: 100%|██████████| 232/232 [00:08<00:00, 26.25 examples/s]\n"
     ]
    }
   ],
   "source": [
    "pa.PyExtensionType.set_auto_load(True)\n",
    "\n",
    "def process_examples(examples, image_processor):\n",
    "    \n",
    "    # Get batch of images\n",
    "    images = examples['image']\n",
    "\n",
    "    # Preprocess\n",
    "    inputs = image_processor(images=images)\n",
    "    # Add pixel_values\n",
    "    examples['pixel_values'] = inputs['pixel_values']\n",
    "\n",
    "    return examples\n",
    "\n",
    "\n",
    "def apply_processing(\n",
    "    model_name: str,\n",
    "    train_dataset: Dataset,\n",
    "    val_dataset: Dataset,\n",
    "    test_dataset: Dataset\n",
    ") -> Tuple[Dataset, Dataset, Dataset]:\n",
    "    \"\"\"\n",
    "    Apply model's image AutoProcessor to transform train, validation and test subsets.\n",
    "    Returns train, validation and test datasets with `pixel_values` in torch tensor type.\n",
    "    \"\"\"\n",
    "\n",
    "    # Extend the features \n",
    "    features = Features({\n",
    "        **train_dataset.features,\n",
    "        'pixel_values': Array3D(dtype=\"float32\", shape=(3, 224, 224)),\n",
    "    })\n",
    "\n",
    "    # Instantiate image_processor\n",
    "    image_processor = AutoProcessor.from_pretrained(model_name)\n",
    "    \n",
    "    # Preprocess images\n",
    "    train_dataset = train_dataset.map(process_examples, batched=True, features=features, fn_kwargs={\"image_processor\": image_processor})\n",
    "    val_dataset = val_dataset.map(process_examples, batched=True, features=features, fn_kwargs={\"image_processor\": image_processor})\n",
    "    test_dataset = test_dataset.map(process_examples, batched=True, features=features, fn_kwargs={\"image_processor\": image_processor})\n",
    "\n",
    "    # Set to torch format for training\n",
    "    train_dataset.set_format('torch', columns=['pixel_values', 'label'])\n",
    "    val_dataset.set_format('torch', columns=['pixel_values', 'label'])\n",
    "    test_dataset.set_format('torch', columns=['pixel_values', 'label'])\n",
    "    \n",
    "    # Remove unused column\n",
    "    train_dataset = train_dataset.remove_columns(\"image\")\n",
    "    val_dataset = val_dataset.remove_columns(\"image\")\n",
    "    test_dataset = test_dataset.remove_columns(\"image\")\n",
    "    \n",
    "    return train_dataset, val_dataset, test_dataset\n",
    "\n",
    "\n",
    "# Apply AutoProcessor\n",
    "train_dataset, val_dataset, test_dataset = apply_processing(model_name, train_dataset, val_dataset, test_dataset)"
   ]
  },
  {
   "cell_type": "markdown",
   "metadata": {},
   "source": [
    "Save Transformed Dataset\n",
    "************"
   ]
  },
  {
   "cell_type": "code",
   "execution_count": 6,
   "metadata": {},
   "outputs": [
    {
     "name": "stderr",
     "output_type": "stream",
     "text": [
      "Saving the dataset (0/1 shards):   0%|          | 0/1623 [00:00<?, ? examples/s]"
     ]
    },
    {
     "name": "stderr",
     "output_type": "stream",
     "text": [
      "Saving the dataset (1/1 shards): 100%|██████████| 1623/1623 [00:01<00:00, 1041.43 examples/s]\n",
      "Saving the dataset (1/1 shards): 100%|██████████| 464/464 [00:00<00:00, 1116.20 examples/s]\n",
      "Saving the dataset (1/1 shards): 100%|██████████| 232/232 [00:00<00:00, 1005.32 examples/s]\n"
     ]
    }
   ],
   "source": [
    "# Save train, validation and test preprocessed datasets\n",
    "train_dataset.save_to_disk(train_save_path, num_shards=1)\n",
    "\n",
    "val_dataset.save_to_disk(val_save_path, num_shards=1)\n",
    "\n",
    "test_dataset.save_to_disk(test_save_path, num_shards=1)"
   ]
  },
  {
   "cell_type": "markdown",
   "metadata": {},
   "source": [
    "Load Transformed Dataset\n",
    "************"
   ]
  },
  {
   "cell_type": "code",
   "execution_count": 7,
   "metadata": {},
   "outputs": [],
   "source": [
    "train_dataset = load_from_disk(train_save_path)\n",
    "\n",
    "val_dataset = load_from_disk(val_save_path)"
   ]
  },
  {
   "cell_type": "markdown",
   "metadata": {},
   "source": [
    "Define Model & \n",
    "************"
   ]
  },
  {
   "cell_type": "code",
   "execution_count": 8,
   "metadata": {},
   "outputs": [
    {
     "name": "stderr",
     "output_type": "stream",
     "text": [
      "Some weights of the model checkpoint at google/vit-base-patch16-224-in21k were not used when initializing ViTForImageClassification: ['pooler.dense.bias', 'pooler.dense.weight']\n",
      "- This IS expected if you are initializing ViTForImageClassification from the checkpoint of a model trained on another task or with another architecture (e.g. initializing a BertForSequenceClassification model from a BertForPreTraining model).\n",
      "- This IS NOT expected if you are initializing ViTForImageClassification from the checkpoint of a model that you expect to be exactly identical (initializing a BertForSequenceClassification model from a BertForSequenceClassification model).\n",
      "Some weights of ViTForImageClassification were not initialized from the model checkpoint at google/vit-base-patch16-224-in21k and are newly initialized: ['classifier.weight', 'classifier.bias']\n",
      "You should probably TRAIN this model on a down-stream task to be able to use it for predictions and inference.\n",
      "c:\\Users\\Acer\\AppData\\Local\\Programs\\Python\\Python39\\lib\\site-packages\\transformers\\models\\vit\\feature_extraction_vit.py:28: FutureWarning: The class ViTFeatureExtractor is deprecated and will be removed in version 5 of Transformers. Please use ViTImageProcessor instead.\n",
      "  warnings.warn(\n"
     ]
    }
   ],
   "source": [
    "model = ViTForImageClassification.from_pretrained(model_name, num_labels=7)\n",
    "\n",
    "# Download feature extractor from hub\n",
    "feature_extractor = ViTFeatureExtractor.from_pretrained(model_name)"
   ]
  },
  {
   "cell_type": "markdown",
   "metadata": {},
   "source": [
    "Create Evaluation Metric\n",
    "************"
   ]
  },
  {
   "cell_type": "code",
   "execution_count": 9,
   "metadata": {},
   "outputs": [],
   "source": [
    "# Compute metrics function for binary classification\n",
    "acc_metric = evaluate.load(\"accuracy\", module_type=\"metric\")\n",
    "\n",
    "def compute_metrics(eval_pred):\n",
    "    predicted_probs, labels = eval_pred\n",
    "    # Accuracy\n",
    "    predicted_labels = np.argmax(predicted_probs, axis=1)\n",
    "    acc = acc_metric.compute(predictions=predicted_labels, references=labels)\n",
    "    return acc"
   ]
  },
  {
   "cell_type": "markdown",
   "metadata": {},
   "source": [
    "Target Class Encode-Decode\n",
    "************"
   ]
  },
  {
   "cell_type": "code",
   "execution_count": 10,
   "metadata": {},
   "outputs": [],
   "source": [
    "id2label = {key:train_dataset.features[\"label\"].names[index] for index,key in enumerate(model.config.id2label.keys())}\n",
    "label2id = {train_dataset.features[\"label\"].names[index]:value for index,value in enumerate(model.config.label2id.values())}\n",
    "model.config.id2label = id2label\n",
    "model.config.label2id = label2id"
   ]
  },
  {
   "cell_type": "markdown",
   "metadata": {},
   "source": [
    "Define Training Hyperparameter & Argument\n",
    "************"
   ]
  },
  {
   "cell_type": "code",
   "execution_count": 11,
   "metadata": {},
   "outputs": [],
   "source": [
    "model_dir = \"./model\"\n",
    "output_data_dir = \"./outputs\"\n",
    "\n",
    "# Total number of training epochs to perform\n",
    "num_train_epochs = 15\n",
    "# The batch size per GPU/TPU core/CPU for training\n",
    "per_device_train_batch_size = 16\n",
    "# The batch size per GPU/TPU core/CPU for evaluation\n",
    "per_device_eval_batch_size = 16\n",
    "# The initial learning rate for AdamW optimizer\n",
    "learning_rate = 2e-5\n",
    "# Number of steps used for a linear warmup from 0 to learning_rate\n",
    "warmup_steps = 500\n",
    "# The weight decay to apply to all layers except all bias and LayerNorm weights in AdamW optimizer\n",
    "weight_decay = 0.01\n",
    "\n",
    "main_metric_for_evaluation = \"accuracy\""
   ]
  },
  {
   "cell_type": "markdown",
   "metadata": {},
   "source": [
    "Apply Training Arguments\n",
    "************"
   ]
  },
  {
   "cell_type": "code",
   "execution_count": 12,
   "metadata": {},
   "outputs": [],
   "source": [
    "training_args = TrainingArguments(\n",
    "    output_dir = model_dir,\n",
    "    num_train_epochs = num_train_epochs,\n",
    "    per_device_train_batch_size = per_device_train_batch_size,\n",
    "    per_device_eval_batch_size = per_device_eval_batch_size,\n",
    "    warmup_steps = warmup_steps,\n",
    "    weight_decay = weight_decay,\n",
    "    evaluation_strategy = \"epoch\",\n",
    "    save_strategy = \"epoch\",\n",
    "    logging_strategy = \"epoch\",\n",
    "    logging_dir = f\"{output_data_dir}/logs\",\n",
    "    learning_rate = float(learning_rate),\n",
    "    load_best_model_at_end = True,\n",
    "    metric_for_best_model = main_metric_for_evaluation,\n",
    ")"
   ]
  },
  {
   "cell_type": "markdown",
   "metadata": {},
   "source": [
    "Create Model Trainer\n",
    "************"
   ]
  },
  {
   "cell_type": "code",
   "execution_count": 13,
   "metadata": {},
   "outputs": [],
   "source": [
    "# Create Trainer instance\n",
    "trainer = Trainer(\n",
    "    model = model,\n",
    "    args = training_args,\n",
    "    compute_metrics = compute_metrics,\n",
    "    train_dataset = train_dataset,\n",
    "    eval_dataset = val_dataset,\n",
    "    data_collator = default_data_collator,\n",
    "    tokenizer = feature_extractor\n",
    ")"
   ]
  },
  {
   "cell_type": "markdown",
   "metadata": {},
   "source": [
    "Model Training\n",
    "************"
   ]
  },
  {
   "cell_type": "code",
   "execution_count": 14,
   "metadata": {},
   "outputs": [
    {
     "name": "stderr",
     "output_type": "stream",
     "text": [
      "c:\\Users\\Acer\\AppData\\Local\\Programs\\Python\\Python39\\lib\\site-packages\\transformers\\optimization.py:306: FutureWarning: This implementation of AdamW is deprecated and will be removed in a future version. Use the PyTorch implementation torch.optim.AdamW instead, or set `no_deprecation_warning=True` to disable this warning\n",
      "  warnings.warn(\n",
      "***** Running training *****\n",
      "  Num examples = 1623\n",
      "  Num Epochs = 15\n",
      "  Instantaneous batch size per device = 16\n",
      "  Total train batch size (w. parallel, distributed & accumulation) = 16\n",
      "  Gradient Accumulation steps = 1\n",
      "  Total optimization steps = 1530\n",
      "  Number of trainable parameters = 85804039\n",
      "  0%|          | 0/1530 [00:00<?, ?it/s]c:\\Users\\Acer\\AppData\\Local\\Programs\\Python\\Python39\\lib\\site-packages\\datasets\\features\\features.py:648: FutureWarning: pyarrow.PyExtensionType is deprecated and will refuse deserialization by default. Instead, please derive from pyarrow.ExtensionType and implement your own serialization mechanism.\n",
      "  pa.PyExtensionType.__init__(self, self.storage_dtype)\n",
      "  7%|▋         | 102/1530 [02:23<24:15,  1.02s/it]***** Running Evaluation *****\n",
      "  Num examples = 464\n",
      "  Batch size = 16\n"
     ]
    },
    {
     "name": "stdout",
     "output_type": "stream",
     "text": [
      "{'loss': 1.9278, 'learning_rate': 4.08e-06, 'epoch': 1.0}\n"
     ]
    },
    {
     "name": "stderr",
     "output_type": "stream",
     "text": [
      "                                                  \n",
      "  7%|▋         | 102/1530 [02:38<24:15,  1.02s/it]Saving model checkpoint to ./model\\checkpoint-102\n",
      "Configuration saved in ./model\\checkpoint-102\\config.json\n"
     ]
    },
    {
     "name": "stdout",
     "output_type": "stream",
     "text": [
      "{'eval_loss': 1.899126648902893, 'eval_accuracy': 0.28663793103448276, 'eval_runtime': 14.7503, 'eval_samples_per_second': 31.457, 'eval_steps_per_second': 1.966, 'epoch': 1.0}\n"
     ]
    },
    {
     "name": "stderr",
     "output_type": "stream",
     "text": [
      "Model weights saved in ./model\\checkpoint-102\\pytorch_model.bin\n",
      "Image processor saved in ./model\\checkpoint-102\\preprocessor_config.json\n",
      "c:\\Users\\Acer\\AppData\\Local\\Programs\\Python\\Python39\\lib\\site-packages\\datasets\\features\\features.py:648: FutureWarning: pyarrow.PyExtensionType is deprecated and will refuse deserialization by default. Instead, please derive from pyarrow.ExtensionType and implement your own serialization mechanism.\n",
      "  pa.PyExtensionType.__init__(self, self.storage_dtype)\n",
      " 13%|█▎        | 204/1530 [04:33<22:20,  1.01s/it]  ***** Running Evaluation *****\n",
      "  Num examples = 464\n",
      "  Batch size = 16\n"
     ]
    },
    {
     "name": "stdout",
     "output_type": "stream",
     "text": [
      "{'loss': 1.827, 'learning_rate': 8.16e-06, 'epoch': 2.0}\n"
     ]
    },
    {
     "name": "stderr",
     "output_type": "stream",
     "text": [
      "                                                  \n",
      " 13%|█▎        | 204/1530 [04:47<22:20,  1.01s/it]Saving model checkpoint to ./model\\checkpoint-204\n",
      "Configuration saved in ./model\\checkpoint-204\\config.json\n"
     ]
    },
    {
     "name": "stdout",
     "output_type": "stream",
     "text": [
      "{'eval_loss': 1.762753963470459, 'eval_accuracy': 0.5301724137931034, 'eval_runtime': 14.4938, 'eval_samples_per_second': 32.014, 'eval_steps_per_second': 2.001, 'epoch': 2.0}\n"
     ]
    },
    {
     "name": "stderr",
     "output_type": "stream",
     "text": [
      "Model weights saved in ./model\\checkpoint-204\\pytorch_model.bin\n",
      "Image processor saved in ./model\\checkpoint-204\\preprocessor_config.json\n",
      "c:\\Users\\Acer\\AppData\\Local\\Programs\\Python\\Python39\\lib\\site-packages\\datasets\\features\\features.py:648: FutureWarning: pyarrow.PyExtensionType is deprecated and will refuse deserialization by default. Instead, please derive from pyarrow.ExtensionType and implement your own serialization mechanism.\n",
      "  pa.PyExtensionType.__init__(self, self.storage_dtype)\n",
      " 20%|██        | 306/1530 [06:42<18:51,  1.08it/s]  ***** Running Evaluation *****\n",
      "  Num examples = 464\n",
      "  Batch size = 16\n"
     ]
    },
    {
     "name": "stdout",
     "output_type": "stream",
     "text": [
      "{'loss': 1.5929, 'learning_rate': 1.2240000000000001e-05, 'epoch': 3.0}\n"
     ]
    },
    {
     "name": "stderr",
     "output_type": "stream",
     "text": [
      "                                                  \n",
      " 20%|██        | 306/1530 [06:56<18:51,  1.08it/s]Saving model checkpoint to ./model\\checkpoint-306\n",
      "Configuration saved in ./model\\checkpoint-306\\config.json\n"
     ]
    },
    {
     "name": "stdout",
     "output_type": "stream",
     "text": [
      "{'eval_loss': 1.4770363569259644, 'eval_accuracy': 0.6400862068965517, 'eval_runtime': 14.0335, 'eval_samples_per_second': 33.064, 'eval_steps_per_second': 2.066, 'epoch': 3.0}\n"
     ]
    },
    {
     "name": "stderr",
     "output_type": "stream",
     "text": [
      "Model weights saved in ./model\\checkpoint-306\\pytorch_model.bin\n",
      "Image processor saved in ./model\\checkpoint-306\\preprocessor_config.json\n",
      "c:\\Users\\Acer\\AppData\\Local\\Programs\\Python\\Python39\\lib\\site-packages\\datasets\\features\\features.py:648: FutureWarning: pyarrow.PyExtensionType is deprecated and will refuse deserialization by default. Instead, please derive from pyarrow.ExtensionType and implement your own serialization mechanism.\n",
      "  pa.PyExtensionType.__init__(self, self.storage_dtype)\n",
      " 27%|██▋       | 408/1530 [09:26<17:34,  1.06it/s]  ***** Running Evaluation *****\n",
      "  Num examples = 464\n",
      "  Batch size = 16\n"
     ]
    },
    {
     "name": "stdout",
     "output_type": "stream",
     "text": [
      "{'loss': 1.2215, 'learning_rate': 1.632e-05, 'epoch': 4.0}\n"
     ]
    },
    {
     "name": "stderr",
     "output_type": "stream",
     "text": [
      "                                                  \n",
      " 27%|██▋       | 408/1530 [09:40<17:34,  1.06it/s]Saving model checkpoint to ./model\\checkpoint-408\n",
      "Configuration saved in ./model\\checkpoint-408\\config.json\n"
     ]
    },
    {
     "name": "stdout",
     "output_type": "stream",
     "text": [
      "{'eval_loss': 1.0971226692199707, 'eval_accuracy': 0.7521551724137931, 'eval_runtime': 14.035, 'eval_samples_per_second': 33.06, 'eval_steps_per_second': 2.066, 'epoch': 4.0}\n"
     ]
    },
    {
     "name": "stderr",
     "output_type": "stream",
     "text": [
      "Model weights saved in ./model\\checkpoint-408\\pytorch_model.bin\n",
      "Image processor saved in ./model\\checkpoint-408\\preprocessor_config.json\n",
      "c:\\Users\\Acer\\AppData\\Local\\Programs\\Python\\Python39\\lib\\site-packages\\datasets\\features\\features.py:648: FutureWarning: pyarrow.PyExtensionType is deprecated and will refuse deserialization by default. Instead, please derive from pyarrow.ExtensionType and implement your own serialization mechanism.\n",
      "  pa.PyExtensionType.__init__(self, self.storage_dtype)\n",
      " 33%|███▎      | 510/1530 [11:35<15:57,  1.06it/s]  ***** Running Evaluation *****\n",
      "  Num examples = 464\n",
      "  Batch size = 16\n"
     ]
    },
    {
     "name": "stdout",
     "output_type": "stream",
     "text": [
      "{'loss': 0.8569, 'learning_rate': 1.9805825242718447e-05, 'epoch': 5.0}\n"
     ]
    },
    {
     "name": "stderr",
     "output_type": "stream",
     "text": [
      "                                                  \n",
      " 33%|███▎      | 510/1530 [11:49<15:57,  1.06it/s]Saving model checkpoint to ./model\\checkpoint-510\n",
      "Configuration saved in ./model\\checkpoint-510\\config.json\n"
     ]
    },
    {
     "name": "stdout",
     "output_type": "stream",
     "text": [
      "{'eval_loss': 0.8571765422821045, 'eval_accuracy': 0.7823275862068966, 'eval_runtime': 14.0519, 'eval_samples_per_second': 33.02, 'eval_steps_per_second': 2.064, 'epoch': 5.0}\n"
     ]
    },
    {
     "name": "stderr",
     "output_type": "stream",
     "text": [
      "Model weights saved in ./model\\checkpoint-510\\pytorch_model.bin\n",
      "Image processor saved in ./model\\checkpoint-510\\preprocessor_config.json\n",
      "c:\\Users\\Acer\\AppData\\Local\\Programs\\Python\\Python39\\lib\\site-packages\\datasets\\features\\features.py:648: FutureWarning: pyarrow.PyExtensionType is deprecated and will refuse deserialization by default. Instead, please derive from pyarrow.ExtensionType and implement your own serialization mechanism.\n",
      "  pa.PyExtensionType.__init__(self, self.storage_dtype)\n",
      " 40%|████      | 612/1530 [13:49<14:21,  1.07it/s]  ***** Running Evaluation *****\n",
      "  Num examples = 464\n",
      "  Batch size = 16\n"
     ]
    },
    {
     "name": "stdout",
     "output_type": "stream",
     "text": [
      "{'loss': 0.5777, 'learning_rate': 1.7825242718446602e-05, 'epoch': 6.0}\n"
     ]
    },
    {
     "name": "stderr",
     "output_type": "stream",
     "text": [
      "                                                  \n",
      " 40%|████      | 612/1530 [14:03<14:21,  1.07it/s]Saving model checkpoint to ./model\\checkpoint-612\n",
      "Configuration saved in ./model\\checkpoint-612\\config.json\n"
     ]
    },
    {
     "name": "stdout",
     "output_type": "stream",
     "text": [
      "{'eval_loss': 0.7015092372894287, 'eval_accuracy': 0.8103448275862069, 'eval_runtime': 14.3718, 'eval_samples_per_second': 32.285, 'eval_steps_per_second': 2.018, 'epoch': 6.0}\n"
     ]
    },
    {
     "name": "stderr",
     "output_type": "stream",
     "text": [
      "Model weights saved in ./model\\checkpoint-612\\pytorch_model.bin\n",
      "Image processor saved in ./model\\checkpoint-612\\preprocessor_config.json\n",
      "c:\\Users\\Acer\\AppData\\Local\\Programs\\Python\\Python39\\lib\\site-packages\\datasets\\features\\features.py:648: FutureWarning: pyarrow.PyExtensionType is deprecated and will refuse deserialization by default. Instead, please derive from pyarrow.ExtensionType and implement your own serialization mechanism.\n",
      "  pa.PyExtensionType.__init__(self, self.storage_dtype)\n",
      " 47%|████▋     | 714/1530 [16:00<12:39,  1.07it/s]  ***** Running Evaluation *****\n",
      "  Num examples = 464\n",
      "  Batch size = 16\n"
     ]
    },
    {
     "name": "stdout",
     "output_type": "stream",
     "text": [
      "{'loss': 0.3689, 'learning_rate': 1.584466019417476e-05, 'epoch': 7.0}\n"
     ]
    },
    {
     "name": "stderr",
     "output_type": "stream",
     "text": [
      "                                                  \n",
      " 47%|████▋     | 714/1530 [16:14<12:39,  1.07it/s]Saving model checkpoint to ./model\\checkpoint-714\n",
      "Configuration saved in ./model\\checkpoint-714\\config.json\n"
     ]
    },
    {
     "name": "stdout",
     "output_type": "stream",
     "text": [
      "{'eval_loss': 0.6251118779182434, 'eval_accuracy': 0.834051724137931, 'eval_runtime': 13.2207, 'eval_samples_per_second': 35.096, 'eval_steps_per_second': 2.194, 'epoch': 7.0}\n"
     ]
    },
    {
     "name": "stderr",
     "output_type": "stream",
     "text": [
      "Model weights saved in ./model\\checkpoint-714\\pytorch_model.bin\n",
      "Image processor saved in ./model\\checkpoint-714\\preprocessor_config.json\n",
      "c:\\Users\\Acer\\AppData\\Local\\Programs\\Python\\Python39\\lib\\site-packages\\datasets\\features\\features.py:648: FutureWarning: pyarrow.PyExtensionType is deprecated and will refuse deserialization by default. Instead, please derive from pyarrow.ExtensionType and implement your own serialization mechanism.\n",
      "  pa.PyExtensionType.__init__(self, self.storage_dtype)\n",
      " 53%|█████▎    | 816/1530 [18:10<11:09,  1.07it/s]  ***** Running Evaluation *****\n",
      "  Num examples = 464\n",
      "  Batch size = 16\n"
     ]
    },
    {
     "name": "stdout",
     "output_type": "stream",
     "text": [
      "{'loss': 0.2354, 'learning_rate': 1.3864077669902914e-05, 'epoch': 8.0}\n"
     ]
    },
    {
     "name": "stderr",
     "output_type": "stream",
     "text": [
      "                                                  \n",
      " 53%|█████▎    | 816/1530 [18:24<11:09,  1.07it/s]Saving model checkpoint to ./model\\checkpoint-816\n",
      "Configuration saved in ./model\\checkpoint-816\\config.json\n"
     ]
    },
    {
     "name": "stdout",
     "output_type": "stream",
     "text": [
      "{'eval_loss': 0.6115294694900513, 'eval_accuracy': 0.8168103448275862, 'eval_runtime': 14.0555, 'eval_samples_per_second': 33.012, 'eval_steps_per_second': 2.063, 'epoch': 8.0}\n"
     ]
    },
    {
     "name": "stderr",
     "output_type": "stream",
     "text": [
      "Model weights saved in ./model\\checkpoint-816\\pytorch_model.bin\n",
      "Image processor saved in ./model\\checkpoint-816\\preprocessor_config.json\n",
      "c:\\Users\\Acer\\AppData\\Local\\Programs\\Python\\Python39\\lib\\site-packages\\datasets\\features\\features.py:648: FutureWarning: pyarrow.PyExtensionType is deprecated and will refuse deserialization by default. Instead, please derive from pyarrow.ExtensionType and implement your own serialization mechanism.\n",
      "  pa.PyExtensionType.__init__(self, self.storage_dtype)\n",
      " 60%|██████    | 918/1530 [20:19<09:41,  1.05it/s]  ***** Running Evaluation *****\n",
      "  Num examples = 464\n",
      "  Batch size = 16\n"
     ]
    },
    {
     "name": "stdout",
     "output_type": "stream",
     "text": [
      "{'loss': 0.1634, 'learning_rate': 1.188349514563107e-05, 'epoch': 9.0}\n"
     ]
    },
    {
     "name": "stderr",
     "output_type": "stream",
     "text": [
      "                                                  \n",
      " 60%|██████    | 918/1530 [20:33<09:41,  1.05it/s]Saving model checkpoint to ./model\\checkpoint-918\n",
      "Configuration saved in ./model\\checkpoint-918\\config.json\n"
     ]
    },
    {
     "name": "stdout",
     "output_type": "stream",
     "text": [
      "{'eval_loss': 0.5892494916915894, 'eval_accuracy': 0.8189655172413793, 'eval_runtime': 14.0664, 'eval_samples_per_second': 32.986, 'eval_steps_per_second': 2.062, 'epoch': 9.0}\n"
     ]
    },
    {
     "name": "stderr",
     "output_type": "stream",
     "text": [
      "Model weights saved in ./model\\checkpoint-918\\pytorch_model.bin\n",
      "Image processor saved in ./model\\checkpoint-918\\preprocessor_config.json\n",
      "c:\\Users\\Acer\\AppData\\Local\\Programs\\Python\\Python39\\lib\\site-packages\\datasets\\features\\features.py:648: FutureWarning: pyarrow.PyExtensionType is deprecated and will refuse deserialization by default. Instead, please derive from pyarrow.ExtensionType and implement your own serialization mechanism.\n",
      "  pa.PyExtensionType.__init__(self, self.storage_dtype)\n",
      " 67%|██████▋   | 1020/1530 [22:27<08:04,  1.05it/s]***** Running Evaluation *****\n",
      "  Num examples = 464\n",
      "  Batch size = 16\n"
     ]
    },
    {
     "name": "stdout",
     "output_type": "stream",
     "text": [
      "{'loss': 0.1293, 'learning_rate': 9.902912621359224e-06, 'epoch': 10.0}\n"
     ]
    },
    {
     "name": "stderr",
     "output_type": "stream",
     "text": [
      "                                                   \n",
      " 67%|██████▋   | 1020/1530 [22:42<08:04,  1.05it/s]Saving model checkpoint to ./model\\checkpoint-1020\n",
      "Configuration saved in ./model\\checkpoint-1020\\config.json\n"
     ]
    },
    {
     "name": "stdout",
     "output_type": "stream",
     "text": [
      "{'eval_loss': 0.5852745175361633, 'eval_accuracy': 0.8254310344827587, 'eval_runtime': 14.0991, 'eval_samples_per_second': 32.91, 'eval_steps_per_second': 2.057, 'epoch': 10.0}\n"
     ]
    },
    {
     "name": "stderr",
     "output_type": "stream",
     "text": [
      "Model weights saved in ./model\\checkpoint-1020\\pytorch_model.bin\n",
      "Image processor saved in ./model\\checkpoint-1020\\preprocessor_config.json\n",
      "c:\\Users\\Acer\\AppData\\Local\\Programs\\Python\\Python39\\lib\\site-packages\\datasets\\features\\features.py:648: FutureWarning: pyarrow.PyExtensionType is deprecated and will refuse deserialization by default. Instead, please derive from pyarrow.ExtensionType and implement your own serialization mechanism.\n",
      "  pa.PyExtensionType.__init__(self, self.storage_dtype)\n",
      " 73%|███████▎  | 1122/1530 [24:36<06:19,  1.07it/s]***** Running Evaluation *****\n",
      "  Num examples = 464\n",
      "  Batch size = 16\n"
     ]
    },
    {
     "name": "stdout",
     "output_type": "stream",
     "text": [
      "{'loss': 0.1074, 'learning_rate': 7.92233009708738e-06, 'epoch': 11.0}\n"
     ]
    },
    {
     "name": "stderr",
     "output_type": "stream",
     "text": [
      "                                                   \n",
      " 73%|███████▎  | 1122/1530 [24:50<06:19,  1.07it/s]Saving model checkpoint to ./model\\checkpoint-1122\n",
      "Configuration saved in ./model\\checkpoint-1122\\config.json\n"
     ]
    },
    {
     "name": "stdout",
     "output_type": "stream",
     "text": [
      "{'eval_loss': 0.5908777713775635, 'eval_accuracy': 0.8189655172413793, 'eval_runtime': 14.1025, 'eval_samples_per_second': 32.902, 'eval_steps_per_second': 2.056, 'epoch': 11.0}\n"
     ]
    },
    {
     "name": "stderr",
     "output_type": "stream",
     "text": [
      "Model weights saved in ./model\\checkpoint-1122\\pytorch_model.bin\n",
      "Image processor saved in ./model\\checkpoint-1122\\preprocessor_config.json\n",
      "c:\\Users\\Acer\\AppData\\Local\\Programs\\Python\\Python39\\lib\\site-packages\\datasets\\features\\features.py:648: FutureWarning: pyarrow.PyExtensionType is deprecated and will refuse deserialization by default. Instead, please derive from pyarrow.ExtensionType and implement your own serialization mechanism.\n",
      "  pa.PyExtensionType.__init__(self, self.storage_dtype)\n",
      " 80%|████████  | 1224/1530 [26:44<04:47,  1.06it/s]***** Running Evaluation *****\n",
      "  Num examples = 464\n",
      "  Batch size = 16\n"
     ]
    },
    {
     "name": "stdout",
     "output_type": "stream",
     "text": [
      "{'loss': 0.0964, 'learning_rate': 5.941747572815535e-06, 'epoch': 12.0}\n"
     ]
    },
    {
     "name": "stderr",
     "output_type": "stream",
     "text": [
      "                                                   \n",
      " 80%|████████  | 1224/1530 [26:59<04:47,  1.06it/s]Saving model checkpoint to ./model\\checkpoint-1224\n",
      "Configuration saved in ./model\\checkpoint-1224\\config.json\n"
     ]
    },
    {
     "name": "stdout",
     "output_type": "stream",
     "text": [
      "{'eval_loss': 0.587861955165863, 'eval_accuracy': 0.8211206896551724, 'eval_runtime': 14.0746, 'eval_samples_per_second': 32.967, 'eval_steps_per_second': 2.06, 'epoch': 12.0}\n"
     ]
    },
    {
     "name": "stderr",
     "output_type": "stream",
     "text": [
      "Model weights saved in ./model\\checkpoint-1224\\pytorch_model.bin\n",
      "Image processor saved in ./model\\checkpoint-1224\\preprocessor_config.json\n",
      "c:\\Users\\Acer\\AppData\\Local\\Programs\\Python\\Python39\\lib\\site-packages\\datasets\\features\\features.py:648: FutureWarning: pyarrow.PyExtensionType is deprecated and will refuse deserialization by default. Instead, please derive from pyarrow.ExtensionType and implement your own serialization mechanism.\n",
      "  pa.PyExtensionType.__init__(self, self.storage_dtype)\n",
      " 87%|████████▋ | 1326/1530 [28:53<03:11,  1.06it/s]***** Running Evaluation *****\n",
      "  Num examples = 464\n",
      "  Batch size = 16\n"
     ]
    },
    {
     "name": "stdout",
     "output_type": "stream",
     "text": [
      "{'loss': 0.0885, 'learning_rate': 3.96116504854369e-06, 'epoch': 13.0}\n"
     ]
    },
    {
     "name": "stderr",
     "output_type": "stream",
     "text": [
      "                                                   \n",
      " 87%|████████▋ | 1326/1530 [29:07<03:11,  1.06it/s]Saving model checkpoint to ./model\\checkpoint-1326\n",
      "Configuration saved in ./model\\checkpoint-1326\\config.json\n"
     ]
    },
    {
     "name": "stdout",
     "output_type": "stream",
     "text": [
      "{'eval_loss': 0.5866376757621765, 'eval_accuracy': 0.8211206896551724, 'eval_runtime': 14.0991, 'eval_samples_per_second': 32.91, 'eval_steps_per_second': 2.057, 'epoch': 13.0}\n"
     ]
    },
    {
     "name": "stderr",
     "output_type": "stream",
     "text": [
      "Model weights saved in ./model\\checkpoint-1326\\pytorch_model.bin\n",
      "Image processor saved in ./model\\checkpoint-1326\\preprocessor_config.json\n",
      "c:\\Users\\Acer\\AppData\\Local\\Programs\\Python\\Python39\\lib\\site-packages\\datasets\\features\\features.py:648: FutureWarning: pyarrow.PyExtensionType is deprecated and will refuse deserialization by default. Instead, please derive from pyarrow.ExtensionType and implement your own serialization mechanism.\n",
      "  pa.PyExtensionType.__init__(self, self.storage_dtype)\n",
      " 93%|█████████▎| 1428/1530 [31:02<01:37,  1.05it/s]***** Running Evaluation *****\n",
      "  Num examples = 464\n",
      "  Batch size = 16\n"
     ]
    },
    {
     "name": "stdout",
     "output_type": "stream",
     "text": [
      "{'loss': 0.0826, 'learning_rate': 1.980582524271845e-06, 'epoch': 14.0}\n"
     ]
    },
    {
     "name": "stderr",
     "output_type": "stream",
     "text": [
      "                                                   \n",
      " 93%|█████████▎| 1428/1530 [31:16<01:37,  1.05it/s]Saving model checkpoint to ./model\\checkpoint-1428\n",
      "Configuration saved in ./model\\checkpoint-1428\\config.json\n"
     ]
    },
    {
     "name": "stdout",
     "output_type": "stream",
     "text": [
      "{'eval_loss': 0.5951359272003174, 'eval_accuracy': 0.8189655172413793, 'eval_runtime': 14.1098, 'eval_samples_per_second': 32.885, 'eval_steps_per_second': 2.055, 'epoch': 14.0}\n"
     ]
    },
    {
     "name": "stderr",
     "output_type": "stream",
     "text": [
      "Model weights saved in ./model\\checkpoint-1428\\pytorch_model.bin\n",
      "Image processor saved in ./model\\checkpoint-1428\\preprocessor_config.json\n",
      "c:\\Users\\Acer\\AppData\\Local\\Programs\\Python\\Python39\\lib\\site-packages\\datasets\\features\\features.py:648: FutureWarning: pyarrow.PyExtensionType is deprecated and will refuse deserialization by default. Instead, please derive from pyarrow.ExtensionType and implement your own serialization mechanism.\n",
      "  pa.PyExtensionType.__init__(self, self.storage_dtype)\n",
      "100%|██████████| 1530/1530 [33:10<00:00,  1.05it/s]***** Running Evaluation *****\n",
      "  Num examples = 464\n",
      "  Batch size = 16\n"
     ]
    },
    {
     "name": "stdout",
     "output_type": "stream",
     "text": [
      "{'loss': 0.0798, 'learning_rate': 0.0, 'epoch': 15.0}\n"
     ]
    },
    {
     "name": "stderr",
     "output_type": "stream",
     "text": [
      "                                                   \n",
      "100%|██████████| 1530/1530 [33:24<00:00,  1.05it/s]Saving model checkpoint to ./model\\checkpoint-1530\n",
      "Configuration saved in ./model\\checkpoint-1530\\config.json\n"
     ]
    },
    {
     "name": "stdout",
     "output_type": "stream",
     "text": [
      "{'eval_loss': 0.5962388515472412, 'eval_accuracy': 0.8211206896551724, 'eval_runtime': 14.0169, 'eval_samples_per_second': 33.103, 'eval_steps_per_second': 2.069, 'epoch': 15.0}\n"
     ]
    },
    {
     "name": "stderr",
     "output_type": "stream",
     "text": [
      "Model weights saved in ./model\\checkpoint-1530\\pytorch_model.bin\n",
      "Image processor saved in ./model\\checkpoint-1530\\preprocessor_config.json\n",
      "\n",
      "\n",
      "Training completed. Do not forget to share your model on huggingface.co/models =)\n",
      "\n",
      "\n",
      "Loading best model from ./model\\checkpoint-714 (score: 0.834051724137931).\n",
      "100%|██████████| 1530/1530 [33:26<00:00,  1.31s/it]"
     ]
    },
    {
     "name": "stdout",
     "output_type": "stream",
     "text": [
      "{'train_runtime': 2006.6579, 'train_samples_per_second': 12.132, 'train_steps_per_second': 0.762, 'train_loss': 0.6237030995437522, 'epoch': 15.0}\n"
     ]
    },
    {
     "name": "stderr",
     "output_type": "stream",
     "text": [
      "\n"
     ]
    },
    {
     "data": {
      "text/plain": [
       "TrainOutput(global_step=1530, training_loss=0.6237030995437522, metrics={'train_runtime': 2006.6579, 'train_samples_per_second': 12.132, 'train_steps_per_second': 0.762, 'train_loss': 0.6237030995437522, 'epoch': 15.0})"
      ]
     },
     "execution_count": 14,
     "metadata": {},
     "output_type": "execute_result"
    }
   ],
   "source": [
    "torch.cuda.empty_cache()\n",
    "trainer.train() "
   ]
  },
  {
   "cell_type": "markdown",
   "metadata": {},
   "source": [
    "Model Training History\n",
    "************"
   ]
  },
  {
   "cell_type": "code",
   "execution_count": 15,
   "metadata": {},
   "outputs": [
    {
     "data": {
      "text/html": [
       "<div>\n",
       "<style scoped>\n",
       "    .dataframe tbody tr th:only-of-type {\n",
       "        vertical-align: middle;\n",
       "    }\n",
       "\n",
       "    .dataframe tbody tr th {\n",
       "        vertical-align: top;\n",
       "    }\n",
       "\n",
       "    .dataframe thead th {\n",
       "        text-align: right;\n",
       "    }\n",
       "</style>\n",
       "<table border=\"1\" class=\"dataframe\">\n",
       "  <thead>\n",
       "    <tr style=\"text-align: right;\">\n",
       "      <th></th>\n",
       "      <th>loss</th>\n",
       "      <th>learning_rate</th>\n",
       "      <th>step</th>\n",
       "      <th>eval_loss</th>\n",
       "      <th>eval_accuracy</th>\n",
       "      <th>eval_runtime</th>\n",
       "      <th>eval_samples_per_second</th>\n",
       "      <th>eval_steps_per_second</th>\n",
       "      <th>train_runtime</th>\n",
       "      <th>train_samples_per_second</th>\n",
       "      <th>train_steps_per_second</th>\n",
       "      <th>total_flos</th>\n",
       "      <th>train_loss</th>\n",
       "    </tr>\n",
       "    <tr>\n",
       "      <th>epoch</th>\n",
       "      <th></th>\n",
       "      <th></th>\n",
       "      <th></th>\n",
       "      <th></th>\n",
       "      <th></th>\n",
       "      <th></th>\n",
       "      <th></th>\n",
       "      <th></th>\n",
       "      <th></th>\n",
       "      <th></th>\n",
       "      <th></th>\n",
       "      <th></th>\n",
       "      <th></th>\n",
       "    </tr>\n",
       "  </thead>\n",
       "  <tbody>\n",
       "    <tr>\n",
       "      <th>1.0</th>\n",
       "      <td>1.9278</td>\n",
       "      <td>0.000004</td>\n",
       "      <td>204</td>\n",
       "      <td>1.899127</td>\n",
       "      <td>0.286638</td>\n",
       "      <td>14.7503</td>\n",
       "      <td>31.457</td>\n",
       "      <td>1.966</td>\n",
       "      <td>0.0000</td>\n",
       "      <td>0.000</td>\n",
       "      <td>0.000</td>\n",
       "      <td>0.000000e+00</td>\n",
       "      <td>0.000000</td>\n",
       "    </tr>\n",
       "    <tr>\n",
       "      <th>2.0</th>\n",
       "      <td>1.8270</td>\n",
       "      <td>0.000008</td>\n",
       "      <td>408</td>\n",
       "      <td>1.762754</td>\n",
       "      <td>0.530172</td>\n",
       "      <td>14.4938</td>\n",
       "      <td>32.014</td>\n",
       "      <td>2.001</td>\n",
       "      <td>0.0000</td>\n",
       "      <td>0.000</td>\n",
       "      <td>0.000</td>\n",
       "      <td>0.000000e+00</td>\n",
       "      <td>0.000000</td>\n",
       "    </tr>\n",
       "    <tr>\n",
       "      <th>3.0</th>\n",
       "      <td>1.5929</td>\n",
       "      <td>0.000012</td>\n",
       "      <td>612</td>\n",
       "      <td>1.477036</td>\n",
       "      <td>0.640086</td>\n",
       "      <td>14.0335</td>\n",
       "      <td>33.064</td>\n",
       "      <td>2.066</td>\n",
       "      <td>0.0000</td>\n",
       "      <td>0.000</td>\n",
       "      <td>0.000</td>\n",
       "      <td>0.000000e+00</td>\n",
       "      <td>0.000000</td>\n",
       "    </tr>\n",
       "    <tr>\n",
       "      <th>4.0</th>\n",
       "      <td>1.2215</td>\n",
       "      <td>0.000016</td>\n",
       "      <td>816</td>\n",
       "      <td>1.097123</td>\n",
       "      <td>0.752155</td>\n",
       "      <td>14.0350</td>\n",
       "      <td>33.060</td>\n",
       "      <td>2.066</td>\n",
       "      <td>0.0000</td>\n",
       "      <td>0.000</td>\n",
       "      <td>0.000</td>\n",
       "      <td>0.000000e+00</td>\n",
       "      <td>0.000000</td>\n",
       "    </tr>\n",
       "    <tr>\n",
       "      <th>5.0</th>\n",
       "      <td>0.8569</td>\n",
       "      <td>0.000020</td>\n",
       "      <td>1020</td>\n",
       "      <td>0.857177</td>\n",
       "      <td>0.782328</td>\n",
       "      <td>14.0519</td>\n",
       "      <td>33.020</td>\n",
       "      <td>2.064</td>\n",
       "      <td>0.0000</td>\n",
       "      <td>0.000</td>\n",
       "      <td>0.000</td>\n",
       "      <td>0.000000e+00</td>\n",
       "      <td>0.000000</td>\n",
       "    </tr>\n",
       "    <tr>\n",
       "      <th>6.0</th>\n",
       "      <td>0.5777</td>\n",
       "      <td>0.000018</td>\n",
       "      <td>1224</td>\n",
       "      <td>0.701509</td>\n",
       "      <td>0.810345</td>\n",
       "      <td>14.3718</td>\n",
       "      <td>32.285</td>\n",
       "      <td>2.018</td>\n",
       "      <td>0.0000</td>\n",
       "      <td>0.000</td>\n",
       "      <td>0.000</td>\n",
       "      <td>0.000000e+00</td>\n",
       "      <td>0.000000</td>\n",
       "    </tr>\n",
       "    <tr>\n",
       "      <th>7.0</th>\n",
       "      <td>0.3689</td>\n",
       "      <td>0.000016</td>\n",
       "      <td>1428</td>\n",
       "      <td>0.625112</td>\n",
       "      <td>0.834052</td>\n",
       "      <td>13.2207</td>\n",
       "      <td>35.096</td>\n",
       "      <td>2.194</td>\n",
       "      <td>0.0000</td>\n",
       "      <td>0.000</td>\n",
       "      <td>0.000</td>\n",
       "      <td>0.000000e+00</td>\n",
       "      <td>0.000000</td>\n",
       "    </tr>\n",
       "    <tr>\n",
       "      <th>8.0</th>\n",
       "      <td>0.2354</td>\n",
       "      <td>0.000014</td>\n",
       "      <td>1632</td>\n",
       "      <td>0.611529</td>\n",
       "      <td>0.816810</td>\n",
       "      <td>14.0555</td>\n",
       "      <td>33.012</td>\n",
       "      <td>2.063</td>\n",
       "      <td>0.0000</td>\n",
       "      <td>0.000</td>\n",
       "      <td>0.000</td>\n",
       "      <td>0.000000e+00</td>\n",
       "      <td>0.000000</td>\n",
       "    </tr>\n",
       "    <tr>\n",
       "      <th>9.0</th>\n",
       "      <td>0.1634</td>\n",
       "      <td>0.000012</td>\n",
       "      <td>1836</td>\n",
       "      <td>0.589249</td>\n",
       "      <td>0.818966</td>\n",
       "      <td>14.0664</td>\n",
       "      <td>32.986</td>\n",
       "      <td>2.062</td>\n",
       "      <td>0.0000</td>\n",
       "      <td>0.000</td>\n",
       "      <td>0.000</td>\n",
       "      <td>0.000000e+00</td>\n",
       "      <td>0.000000</td>\n",
       "    </tr>\n",
       "    <tr>\n",
       "      <th>10.0</th>\n",
       "      <td>0.1293</td>\n",
       "      <td>0.000010</td>\n",
       "      <td>2040</td>\n",
       "      <td>0.585275</td>\n",
       "      <td>0.825431</td>\n",
       "      <td>14.0991</td>\n",
       "      <td>32.910</td>\n",
       "      <td>2.057</td>\n",
       "      <td>0.0000</td>\n",
       "      <td>0.000</td>\n",
       "      <td>0.000</td>\n",
       "      <td>0.000000e+00</td>\n",
       "      <td>0.000000</td>\n",
       "    </tr>\n",
       "    <tr>\n",
       "      <th>11.0</th>\n",
       "      <td>0.1074</td>\n",
       "      <td>0.000008</td>\n",
       "      <td>2244</td>\n",
       "      <td>0.590878</td>\n",
       "      <td>0.818966</td>\n",
       "      <td>14.1025</td>\n",
       "      <td>32.902</td>\n",
       "      <td>2.056</td>\n",
       "      <td>0.0000</td>\n",
       "      <td>0.000</td>\n",
       "      <td>0.000</td>\n",
       "      <td>0.000000e+00</td>\n",
       "      <td>0.000000</td>\n",
       "    </tr>\n",
       "    <tr>\n",
       "      <th>12.0</th>\n",
       "      <td>0.0964</td>\n",
       "      <td>0.000006</td>\n",
       "      <td>2448</td>\n",
       "      <td>0.587862</td>\n",
       "      <td>0.821121</td>\n",
       "      <td>14.0746</td>\n",
       "      <td>32.967</td>\n",
       "      <td>2.060</td>\n",
       "      <td>0.0000</td>\n",
       "      <td>0.000</td>\n",
       "      <td>0.000</td>\n",
       "      <td>0.000000e+00</td>\n",
       "      <td>0.000000</td>\n",
       "    </tr>\n",
       "    <tr>\n",
       "      <th>13.0</th>\n",
       "      <td>0.0885</td>\n",
       "      <td>0.000004</td>\n",
       "      <td>2652</td>\n",
       "      <td>0.586638</td>\n",
       "      <td>0.821121</td>\n",
       "      <td>14.0991</td>\n",
       "      <td>32.910</td>\n",
       "      <td>2.057</td>\n",
       "      <td>0.0000</td>\n",
       "      <td>0.000</td>\n",
       "      <td>0.000</td>\n",
       "      <td>0.000000e+00</td>\n",
       "      <td>0.000000</td>\n",
       "    </tr>\n",
       "    <tr>\n",
       "      <th>14.0</th>\n",
       "      <td>0.0826</td>\n",
       "      <td>0.000002</td>\n",
       "      <td>2856</td>\n",
       "      <td>0.595136</td>\n",
       "      <td>0.818966</td>\n",
       "      <td>14.1098</td>\n",
       "      <td>32.885</td>\n",
       "      <td>2.055</td>\n",
       "      <td>0.0000</td>\n",
       "      <td>0.000</td>\n",
       "      <td>0.000</td>\n",
       "      <td>0.000000e+00</td>\n",
       "      <td>0.000000</td>\n",
       "    </tr>\n",
       "    <tr>\n",
       "      <th>15.0</th>\n",
       "      <td>0.0798</td>\n",
       "      <td>0.000000</td>\n",
       "      <td>4590</td>\n",
       "      <td>0.596239</td>\n",
       "      <td>0.821121</td>\n",
       "      <td>14.0169</td>\n",
       "      <td>33.103</td>\n",
       "      <td>2.069</td>\n",
       "      <td>2006.6579</td>\n",
       "      <td>12.132</td>\n",
       "      <td>0.762</td>\n",
       "      <td>1.886627e+18</td>\n",
       "      <td>0.623703</td>\n",
       "    </tr>\n",
       "  </tbody>\n",
       "</table>\n",
       "</div>"
      ],
      "text/plain": [
       "         loss  learning_rate  step  eval_loss  eval_accuracy  eval_runtime  \\\n",
       "epoch                                                                        \n",
       "1.0    1.9278       0.000004   204   1.899127       0.286638       14.7503   \n",
       "2.0    1.8270       0.000008   408   1.762754       0.530172       14.4938   \n",
       "3.0    1.5929       0.000012   612   1.477036       0.640086       14.0335   \n",
       "4.0    1.2215       0.000016   816   1.097123       0.752155       14.0350   \n",
       "5.0    0.8569       0.000020  1020   0.857177       0.782328       14.0519   \n",
       "6.0    0.5777       0.000018  1224   0.701509       0.810345       14.3718   \n",
       "7.0    0.3689       0.000016  1428   0.625112       0.834052       13.2207   \n",
       "8.0    0.2354       0.000014  1632   0.611529       0.816810       14.0555   \n",
       "9.0    0.1634       0.000012  1836   0.589249       0.818966       14.0664   \n",
       "10.0   0.1293       0.000010  2040   0.585275       0.825431       14.0991   \n",
       "11.0   0.1074       0.000008  2244   0.590878       0.818966       14.1025   \n",
       "12.0   0.0964       0.000006  2448   0.587862       0.821121       14.0746   \n",
       "13.0   0.0885       0.000004  2652   0.586638       0.821121       14.0991   \n",
       "14.0   0.0826       0.000002  2856   0.595136       0.818966       14.1098   \n",
       "15.0   0.0798       0.000000  4590   0.596239       0.821121       14.0169   \n",
       "\n",
       "       eval_samples_per_second  eval_steps_per_second  train_runtime  \\\n",
       "epoch                                                                  \n",
       "1.0                     31.457                  1.966         0.0000   \n",
       "2.0                     32.014                  2.001         0.0000   \n",
       "3.0                     33.064                  2.066         0.0000   \n",
       "4.0                     33.060                  2.066         0.0000   \n",
       "5.0                     33.020                  2.064         0.0000   \n",
       "6.0                     32.285                  2.018         0.0000   \n",
       "7.0                     35.096                  2.194         0.0000   \n",
       "8.0                     33.012                  2.063         0.0000   \n",
       "9.0                     32.986                  2.062         0.0000   \n",
       "10.0                    32.910                  2.057         0.0000   \n",
       "11.0                    32.902                  2.056         0.0000   \n",
       "12.0                    32.967                  2.060         0.0000   \n",
       "13.0                    32.910                  2.057         0.0000   \n",
       "14.0                    32.885                  2.055         0.0000   \n",
       "15.0                    33.103                  2.069      2006.6579   \n",
       "\n",
       "       train_samples_per_second  train_steps_per_second    total_flos  \\\n",
       "epoch                                                                   \n",
       "1.0                       0.000                   0.000  0.000000e+00   \n",
       "2.0                       0.000                   0.000  0.000000e+00   \n",
       "3.0                       0.000                   0.000  0.000000e+00   \n",
       "4.0                       0.000                   0.000  0.000000e+00   \n",
       "5.0                       0.000                   0.000  0.000000e+00   \n",
       "6.0                       0.000                   0.000  0.000000e+00   \n",
       "7.0                       0.000                   0.000  0.000000e+00   \n",
       "8.0                       0.000                   0.000  0.000000e+00   \n",
       "9.0                       0.000                   0.000  0.000000e+00   \n",
       "10.0                      0.000                   0.000  0.000000e+00   \n",
       "11.0                      0.000                   0.000  0.000000e+00   \n",
       "12.0                      0.000                   0.000  0.000000e+00   \n",
       "13.0                      0.000                   0.000  0.000000e+00   \n",
       "14.0                      0.000                   0.000  0.000000e+00   \n",
       "15.0                     12.132                   0.762  1.886627e+18   \n",
       "\n",
       "       train_loss  \n",
       "epoch              \n",
       "1.0      0.000000  \n",
       "2.0      0.000000  \n",
       "3.0      0.000000  \n",
       "4.0      0.000000  \n",
       "5.0      0.000000  \n",
       "6.0      0.000000  \n",
       "7.0      0.000000  \n",
       "8.0      0.000000  \n",
       "9.0      0.000000  \n",
       "10.0     0.000000  \n",
       "11.0     0.000000  \n",
       "12.0     0.000000  \n",
       "13.0     0.000000  \n",
       "14.0     0.000000  \n",
       "15.0     0.623703  "
      ]
     },
     "execution_count": 15,
     "metadata": {},
     "output_type": "execute_result"
    }
   ],
   "source": [
    "log_history = pd.DataFrame(trainer.state.log_history)\n",
    "log_history = log_history.fillna(0)\n",
    "log_history = log_history.groupby(['epoch']).sum()\n",
    "log_history"
   ]
  },
  {
   "cell_type": "markdown",
   "metadata": {},
   "source": [
    "Loss Curve\n",
    "************"
   ]
  },
  {
   "cell_type": "code",
   "execution_count": 16,
   "metadata": {},
   "outputs": [
    {
     "data": {
      "image/png": "[encoded data removed]",
      "text/plain": [
       "<Figure size 640x480 with 1 Axes>"
      ]
     },
     "metadata": {},
     "output_type": "display_data"
    }
   ],
   "source": [
    "fig = plt.figure()\n",
    "plt.plot(log_history['loss'], color='teal', label='loss')\n",
    "plt.plot(log_history['eval_loss'], color='orange', label='val_loss')\n",
    "fig.suptitle('Loss', fontsize=20)\n",
    "plt.legend(loc=\"upper left\")\n",
    "plt.show()"
   ]
  },
  {
   "cell_type": "markdown",
   "metadata": {},
   "source": [
    "Accuracy Curve\n",
    "************"
   ]
  },
  {
   "cell_type": "code",
   "execution_count": 17,
   "metadata": {},
   "outputs": [
    {
     "data": {
      "image/png": "[encoded data removed]",
      "text/plain": [
       "<Figure size 640x480 with 1 Axes>"
      ]
     },
     "metadata": {},
     "output_type": "display_data"
    }
   ],
   "source": [
    "fig = plt.figure()\n",
    "plt.plot(log_history['eval_accuracy'], color='teal', label='val_accuracy')\n",
    "fig.suptitle('Accuracy', fontsize=20)\n",
    "plt.legend(loc=\"upper left\")\n",
    "plt.show()"
   ]
  },
  {
   "cell_type": "markdown",
   "metadata": {},
   "source": [
    "Model Evaluation From Validation Data\n",
    "************"
   ]
  },
  {
   "cell_type": "code",
   "execution_count": 18,
   "metadata": {},
   "outputs": [
    {
     "name": "stderr",
     "output_type": "stream",
     "text": [
      "c:\\Users\\Acer\\AppData\\Local\\Programs\\Python\\Python39\\lib\\site-packages\\datasets\\features\\features.py:648: FutureWarning: pyarrow.PyExtensionType is deprecated and will refuse deserialization by default. Instead, please derive from pyarrow.ExtensionType and implement your own serialization mechanism.\n",
      "  pa.PyExtensionType.__init__(self, self.storage_dtype)\n",
      "***** Running Evaluation *****\n",
      "  Num examples = 232\n",
      "  Batch size = 16\n"
     ]
    },
    {
     "name": "stderr",
     "output_type": "stream",
     "text": [
      "100%|██████████| 15/15 [00:06<00:00,  2.25it/s]"
     ]
    },
    {
     "name": "stdout",
     "output_type": "stream",
     "text": [
      "***** test metrics *****\n",
      "  epoch                   =       15.0\n",
      "  eval_accuracy           =     0.8103\n",
      "  eval_loss               =     0.6872\n",
      "  eval_runtime            = 0:00:07.28\n",
      "  eval_samples_per_second =     31.865\n",
      "  eval_steps_per_second   =       2.06\n"
     ]
    },
    {
     "name": "stderr",
     "output_type": "stream",
     "text": [
      "\n"
     ]
    }
   ],
   "source": [
    "metrics = trainer.evaluate(test_dataset)\n",
    "trainer.log_metrics(\"test\",metrics)\n",
    "trainer.save_metrics(\"test\",metrics)"
   ]
  },
  {
   "cell_type": "markdown",
   "metadata": {},
   "source": [
    "Test Model\n",
    "************"
   ]
  },
  {
   "cell_type": "code",
   "execution_count": 19,
   "metadata": {},
   "outputs": [
    {
     "name": "stderr",
     "output_type": "stream",
     "text": [
      "c:\\Users\\Acer\\AppData\\Local\\Programs\\Python\\Python39\\lib\\site-packages\\datasets\\features\\features.py:648: FutureWarning: pyarrow.PyExtensionType is deprecated and will refuse deserialization by default. Instead, please derive from pyarrow.ExtensionType and implement your own serialization mechanism.\n",
      "  pa.PyExtensionType.__init__(self, self.storage_dtype)\n",
      "***** Running Prediction *****\n",
      "  Num examples = 232\n",
      "  Batch size = 16\n"
     ]
    },
    {
     "name": "stderr",
     "output_type": "stream",
     "text": [
      "100%|██████████| 15/15 [00:06<00:00,  2.25it/s]\n"
     ]
    }
   ],
   "source": [
    "y_test = trainer.predict(test_dataset)\n",
    "y_test_acual = y_test.label_ids\n",
    "y_test_pred = np.argmax(y_test.predictions, axis=1)\n",
    "Y_pred_Df = pd.DataFrame(y_test_pred)\n",
    "Y_test_Df = pd.DataFrame(y_test_acual)"
   ]
  },
  {
   "cell_type": "markdown",
   "metadata": {},
   "source": [
    "Confusion Metrix\n",
    "************"
   ]
  },
  {
   "cell_type": "code",
   "execution_count": 20,
   "metadata": {},
   "outputs": [
    {
     "data": {
      "text/plain": [
       "Text(0.5, 1.0, 'Confusion Matrix')"
      ]
     },
     "execution_count": 20,
     "metadata": {},
     "output_type": "execute_result"
    },
    {
     "data": {
      "image/png": "[encoded data removed]",
      "text/plain": [
       "<Figure size 640x480 with 2 Axes>"
      ]
     },
     "metadata": {},
     "output_type": "display_data"
    }
   ],
   "source": [
    "# Generate Confusion Metrix\n",
    "cm = confusion_matrix(Y_pred_Df,Y_test_Df)\n",
    "ax= plt.subplot()\n",
    "sns.heatmap(cm, cmap='PuRd', annot=True, fmt='g', ax=ax);  #annot=True to annotate cells, ftm='g' to disable scientific notation\n",
    "\n",
    "# Set label,title name\n",
    "ax.set_xlabel('Predicted labels')\n",
    "ax.set_ylabel('True labels')\n",
    "ax.set_title('Confusion Matrix')"
   ]
  },
  {
   "cell_type": "markdown",
   "metadata": {},
   "source": [
    "Classification Report\n",
    "************"
   ]
  },
  {
   "cell_type": "code",
   "execution_count": 21,
   "metadata": {},
   "outputs": [
    {
     "name": "stdout",
     "output_type": "stream",
     "text": [
      "              precision    recall  f1-score   support\n",
      "\n",
      "      Basalt       0.74      1.00      0.85        14\n",
      "        Coal       0.91      0.94      0.93        34\n",
      "     Granite       0.95      0.81      0.88        26\n",
      "   Limestone       0.76      0.86      0.81        36\n",
      "      Marble       0.73      0.67      0.70        48\n",
      "   Quartzite       0.78      0.74      0.76        54\n",
      "   Sandstone       0.90      0.90      0.90        20\n",
      "\n",
      "    accuracy                           0.81       232\n",
      "   macro avg       0.82      0.85      0.83       232\n",
      "weighted avg       0.81      0.81      0.81       232\n",
      "\n"
     ]
    }
   ],
   "source": [
    "print(classification_report(Y_test_Df,Y_pred_Df, target_names=(train_dataset.features[\"label\"].names)))"
   ]
  }
 ],
 "metadata": {
  "kernelspec": {
   "display_name": "Python 3",
   "language": "python",
   "name": "python3"
  },
  "language_info": {
   "codemirror_mode": {
    "name": "ipython",
    "version": 3
   },
   "file_extension": ".py",
   "mimetype": "text/x-python",
   "name": "python",
   "nbconvert_exporter": "python",
   "pygments_lexer": "ipython3",
   "version": "3.9.9"
  }
 },
 "nbformat": 4,
 "nbformat_minor": 2
}
